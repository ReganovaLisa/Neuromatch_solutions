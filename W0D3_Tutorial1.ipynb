{
  "nbformat": 4,
  "nbformat_minor": 0,
  "metadata": {
    "colab": {
      "name": "Копия блокнота \"W0D3_Tutorial1\"",
      "provenance": [],
      "collapsed_sections": [],
      "include_colab_link": true
    },
    "kernel": {
      "display_name": "Python 3",
      "language": "python",
      "name": "python3"
    },
    "kernelspec": {
      "display_name": "Python 3",
      "name": "python3"
    },
    "language_info": {
      "codemirror_mode": {
        "name": "ipython",
        "version": 3
      },
      "file_extension": ".py",
      "mimetype": "text/x-python",
      "name": "python",
      "nbconvert_exporter": "python",
      "pygments_lexer": "ipython3",
      "version": "3.7.10"
    },
    "widgets": {
      "application/vnd.jupyter.widget-state+json": {
        "1e13e752e4564cfc8f00bdcbffed1872": {
          "model_module": "@jupyter-widgets/controls",
          "model_name": "TabModel",
          "model_module_version": "1.5.0",
          "state": {
            "_view_name": "TabView",
            "_dom_classes": [],
            "_titles": {
              "0": "Youtube",
              "1": "Bilibili"
            },
            "_model_name": "TabModel",
            "_view_module": "@jupyter-widgets/controls",
            "selected_index": 0,
            "_model_module_version": "1.5.0",
            "_view_count": null,
            "_view_module_version": "1.5.0",
            "box_style": "",
            "layout": "IPY_MODEL_22c9c2d2cc44407dab60072b2f629b6d",
            "_model_module": "@jupyter-widgets/controls",
            "children": [
              "IPY_MODEL_ed292812697346cc85ead5558e8e0f2e",
              "IPY_MODEL_3fe449f2e5f84036b91fb65c75e38a46"
            ]
          }
        },
        "22c9c2d2cc44407dab60072b2f629b6d": {
          "model_module": "@jupyter-widgets/base",
          "model_name": "LayoutModel",
          "model_module_version": "1.2.0",
          "state": {
            "_view_name": "LayoutView",
            "grid_template_rows": null,
            "right": null,
            "justify_content": null,
            "_view_module": "@jupyter-widgets/base",
            "overflow": null,
            "_model_module_version": "1.2.0",
            "_view_count": null,
            "flex_flow": null,
            "width": null,
            "min_width": null,
            "border": null,
            "align_items": null,
            "bottom": null,
            "_model_module": "@jupyter-widgets/base",
            "top": null,
            "grid_column": null,
            "overflow_y": null,
            "overflow_x": null,
            "grid_auto_flow": null,
            "grid_area": null,
            "grid_template_columns": null,
            "flex": null,
            "_model_name": "LayoutModel",
            "justify_items": null,
            "grid_row": null,
            "max_height": null,
            "align_content": null,
            "visibility": null,
            "align_self": null,
            "height": null,
            "min_height": null,
            "padding": null,
            "grid_auto_rows": null,
            "grid_gap": null,
            "max_width": null,
            "order": null,
            "_view_module_version": "1.2.0",
            "grid_template_areas": null,
            "object_position": null,
            "object_fit": null,
            "grid_auto_columns": null,
            "margin": null,
            "display": null,
            "left": null
          }
        },
        "ed292812697346cc85ead5558e8e0f2e": {
          "model_module": "@jupyter-widgets/output",
          "model_name": "OutputModel",
          "model_module_version": "1.0.0",
          "state": {
            "_view_name": "OutputView",
            "msg_id": "",
            "_dom_classes": [],
            "_model_name": "OutputModel",
            "outputs": [
              {
                "output_type": "stream",
                "metadata": {
                  "tags": []
                },
                "text": "Video available at https://youtube.com/watch?v=qsK7pHrJU5M\n",
                "stream": "stdout"
              },
              {
                "output_type": "display_data",
                "metadata": {
                  "tags": []
                },
                "text/html": "\n        <iframe\n            width=\"854\"\n            height=\"480\"\n            src=\"https://www.youtube.com/embed/qsK7pHrJU5M?fs=1&rel=0\"\n            frameborder=\"0\"\n            allowfullscreen\n        ></iframe>\n        ",
                "text/plain": "<IPython.lib.display.YouTubeVideo at 0x7fee1525fb90>",
                "image/jpeg": "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\n"
              }
            ],
            "_view_module": "@jupyter-widgets/output",
            "_model_module_version": "1.0.0",
            "_view_count": null,
            "_view_module_version": "1.0.0",
            "layout": "IPY_MODEL_c7742d1ec3cd45d2acf8847e9b1b324e",
            "_model_module": "@jupyter-widgets/output"
          }
        },
        "3fe449f2e5f84036b91fb65c75e38a46": {
          "model_module": "@jupyter-widgets/output",
          "model_name": "OutputModel",
          "model_module_version": "1.0.0",
          "state": {
            "_view_name": "OutputView",
            "msg_id": "",
            "_dom_classes": [],
            "_model_name": "OutputModel",
            "outputs": [
              {
                "output_type": "stream",
                "metadata": {
                  "tags": []
                },
                "text": "Video available at https://www.bilibili.com/video/BV1vf4y1b7mr\n",
                "stream": "stdout"
              },
              {
                "output_type": "display_data",
                "metadata": {
                  "tags": []
                },
                "text/html": "\n        <iframe\n            width=\"854\"\n            height=\"480\"\n            src=\"https://player.bilibili.com/player.html?bvid=BV1vf4y1b7mr&page=1?fs=1\"\n            frameborder=\"0\"\n            allowfullscreen\n        ></iframe>\n        ",
                "text/plain": "<__main__.BiliVideo at 0x7fee1525f910>"
              }
            ],
            "_view_module": "@jupyter-widgets/output",
            "_model_module_version": "1.0.0",
            "_view_count": null,
            "_view_module_version": "1.0.0",
            "layout": "IPY_MODEL_bf4e38bd16844f44b81cca7f82635be2",
            "_model_module": "@jupyter-widgets/output"
          }
        },
        "c7742d1ec3cd45d2acf8847e9b1b324e": {
          "model_module": "@jupyter-widgets/base",
          "model_name": "LayoutModel",
          "model_module_version": "1.2.0",
          "state": {
            "_view_name": "LayoutView",
            "grid_template_rows": null,
            "right": null,
            "justify_content": null,
            "_view_module": "@jupyter-widgets/base",
            "overflow": null,
            "_model_module_version": "1.2.0",
            "_view_count": null,
            "flex_flow": null,
            "width": null,
            "min_width": null,
            "border": null,
            "align_items": null,
            "bottom": null,
            "_model_module": "@jupyter-widgets/base",
            "top": null,
            "grid_column": null,
            "overflow_y": null,
            "overflow_x": null,
            "grid_auto_flow": null,
            "grid_area": null,
            "grid_template_columns": null,
            "flex": null,
            "_model_name": "LayoutModel",
            "justify_items": null,
            "grid_row": null,
            "max_height": null,
            "align_content": null,
            "visibility": null,
            "align_self": null,
            "height": null,
            "min_height": null,
            "padding": null,
            "grid_auto_rows": null,
            "grid_gap": null,
            "max_width": null,
            "order": null,
            "_view_module_version": "1.2.0",
            "grid_template_areas": null,
            "object_position": null,
            "object_fit": null,
            "grid_auto_columns": null,
            "margin": null,
            "display": null,
            "left": null
          }
        },
        "bf4e38bd16844f44b81cca7f82635be2": {
          "model_module": "@jupyter-widgets/base",
          "model_name": "LayoutModel",
          "model_module_version": "1.2.0",
          "state": {
            "_view_name": "LayoutView",
            "grid_template_rows": null,
            "right": null,
            "justify_content": null,
            "_view_module": "@jupyter-widgets/base",
            "overflow": null,
            "_model_module_version": "1.2.0",
            "_view_count": null,
            "flex_flow": null,
            "width": null,
            "min_width": null,
            "border": null,
            "align_items": null,
            "bottom": null,
            "_model_module": "@jupyter-widgets/base",
            "top": null,
            "grid_column": null,
            "overflow_y": null,
            "overflow_x": null,
            "grid_auto_flow": null,
            "grid_area": null,
            "grid_template_columns": null,
            "flex": null,
            "_model_name": "LayoutModel",
            "justify_items": null,
            "grid_row": null,
            "max_height": null,
            "align_content": null,
            "visibility": null,
            "align_self": null,
            "height": null,
            "min_height": null,
            "padding": null,
            "grid_auto_rows": null,
            "grid_gap": null,
            "max_width": null,
            "order": null,
            "_view_module_version": "1.2.0",
            "grid_template_areas": null,
            "object_position": null,
            "object_fit": null,
            "grid_auto_columns": null,
            "margin": null,
            "display": null,
            "left": null
          }
        },
        "a55d7fe702044f29a5ba3d11b28e271f": {
          "model_module": "@jupyter-widgets/controls",
          "model_name": "TabModel",
          "model_module_version": "1.5.0",
          "state": {
            "_view_name": "TabView",
            "_dom_classes": [],
            "_titles": {
              "0": "Youtube",
              "1": "Bilibili"
            },
            "_model_name": "TabModel",
            "_view_module": "@jupyter-widgets/controls",
            "selected_index": 0,
            "_model_module_version": "1.5.0",
            "_view_count": null,
            "_view_module_version": "1.5.0",
            "box_style": "",
            "layout": "IPY_MODEL_39c28d25707340c69b8f1cb00188ac25",
            "_model_module": "@jupyter-widgets/controls",
            "children": [
              "IPY_MODEL_b364714192464b4db690489fdf22d9be",
              "IPY_MODEL_d43c370e65154137ac09fc00bd60cd6f"
            ]
          }
        },
        "39c28d25707340c69b8f1cb00188ac25": {
          "model_module": "@jupyter-widgets/base",
          "model_name": "LayoutModel",
          "model_module_version": "1.2.0",
          "state": {
            "_view_name": "LayoutView",
            "grid_template_rows": null,
            "right": null,
            "justify_content": null,
            "_view_module": "@jupyter-widgets/base",
            "overflow": null,
            "_model_module_version": "1.2.0",
            "_view_count": null,
            "flex_flow": null,
            "width": null,
            "min_width": null,
            "border": null,
            "align_items": null,
            "bottom": null,
            "_model_module": "@jupyter-widgets/base",
            "top": null,
            "grid_column": null,
            "overflow_y": null,
            "overflow_x": null,
            "grid_auto_flow": null,
            "grid_area": null,
            "grid_template_columns": null,
            "flex": null,
            "_model_name": "LayoutModel",
            "justify_items": null,
            "grid_row": null,
            "max_height": null,
            "align_content": null,
            "visibility": null,
            "align_self": null,
            "height": null,
            "min_height": null,
            "padding": null,
            "grid_auto_rows": null,
            "grid_gap": null,
            "max_width": null,
            "order": null,
            "_view_module_version": "1.2.0",
            "grid_template_areas": null,
            "object_position": null,
            "object_fit": null,
            "grid_auto_columns": null,
            "margin": null,
            "display": null,
            "left": null
          }
        },
        "b364714192464b4db690489fdf22d9be": {
          "model_module": "@jupyter-widgets/output",
          "model_name": "OutputModel",
          "model_module_version": "1.0.0",
          "state": {
            "_view_name": "OutputView",
            "msg_id": "",
            "_dom_classes": [],
            "_model_name": "OutputModel",
            "outputs": [
              {
                "output_type": "stream",
                "metadata": {
                  "tags": []
                },
                "text": "Video available at https://youtube.com/watch?v=Vi6L9fBk2Uc\n",
                "stream": "stdout"
              },
              {
                "output_type": "display_data",
                "metadata": {
                  "tags": []
                },
                "text/html": "\n        <iframe\n            width=\"854\"\n            height=\"480\"\n            src=\"https://www.youtube.com/embed/Vi6L9fBk2Uc?fs=1&rel=0\"\n            frameborder=\"0\"\n            allowfullscreen\n        ></iframe>\n        ",
                "text/plain": "<IPython.lib.display.YouTubeVideo at 0x7fee15256090>",
                "image/jpeg": "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\n"
              }
            ],
            "_view_module": "@jupyter-widgets/output",
            "_model_module_version": "1.0.0",
            "_view_count": null,
            "_view_module_version": "1.0.0",
            "layout": "IPY_MODEL_d2c410eeb24d40ceb6a9704d18af6a0c",
            "_model_module": "@jupyter-widgets/output"
          }
        },
        "d43c370e65154137ac09fc00bd60cd6f": {
          "model_module": "@jupyter-widgets/output",
          "model_name": "OutputModel",
          "model_module_version": "1.0.0",
          "state": {
            "_view_name": "OutputView",
            "msg_id": "",
            "_dom_classes": [],
            "_model_name": "OutputModel",
            "outputs": [
              {
                "output_type": "stream",
                "metadata": {
                  "tags": []
                },
                "text": "Video available at https://www.bilibili.com/video/BV1sX4y1P7wT\n",
                "stream": "stdout"
              },
              {
                "output_type": "display_data",
                "metadata": {
                  "tags": []
                },
                "text/html": "\n        <iframe\n            width=\"854\"\n            height=\"480\"\n            src=\"https://player.bilibili.com/player.html?bvid=BV1sX4y1P7wT&page=1?fs=1\"\n            frameborder=\"0\"\n            allowfullscreen\n        ></iframe>\n        ",
                "text/plain": "<__main__.BiliVideo at 0x7fee1525fb10>"
              }
            ],
            "_view_module": "@jupyter-widgets/output",
            "_model_module_version": "1.0.0",
            "_view_count": null,
            "_view_module_version": "1.0.0",
            "layout": "IPY_MODEL_a934c885144e4a029eb0193fa22a919e",
            "_model_module": "@jupyter-widgets/output"
          }
        },
        "d2c410eeb24d40ceb6a9704d18af6a0c": {
          "model_module": "@jupyter-widgets/base",
          "model_name": "LayoutModel",
          "model_module_version": "1.2.0",
          "state": {
            "_view_name": "LayoutView",
            "grid_template_rows": null,
            "right": null,
            "justify_content": null,
            "_view_module": "@jupyter-widgets/base",
            "overflow": null,
            "_model_module_version": "1.2.0",
            "_view_count": null,
            "flex_flow": null,
            "width": null,
            "min_width": null,
            "border": null,
            "align_items": null,
            "bottom": null,
            "_model_module": "@jupyter-widgets/base",
            "top": null,
            "grid_column": null,
            "overflow_y": null,
            "overflow_x": null,
            "grid_auto_flow": null,
            "grid_area": null,
            "grid_template_columns": null,
            "flex": null,
            "_model_name": "LayoutModel",
            "justify_items": null,
            "grid_row": null,
            "max_height": null,
            "align_content": null,
            "visibility": null,
            "align_self": null,
            "height": null,
            "min_height": null,
            "padding": null,
            "grid_auto_rows": null,
            "grid_gap": null,
            "max_width": null,
            "order": null,
            "_view_module_version": "1.2.0",
            "grid_template_areas": null,
            "object_position": null,
            "object_fit": null,
            "grid_auto_columns": null,
            "margin": null,
            "display": null,
            "left": null
          }
        },
        "a934c885144e4a029eb0193fa22a919e": {
          "model_module": "@jupyter-widgets/base",
          "model_name": "LayoutModel",
          "model_module_version": "1.2.0",
          "state": {
            "_view_name": "LayoutView",
            "grid_template_rows": null,
            "right": null,
            "justify_content": null,
            "_view_module": "@jupyter-widgets/base",
            "overflow": null,
            "_model_module_version": "1.2.0",
            "_view_count": null,
            "flex_flow": null,
            "width": null,
            "min_width": null,
            "border": null,
            "align_items": null,
            "bottom": null,
            "_model_module": "@jupyter-widgets/base",
            "top": null,
            "grid_column": null,
            "overflow_y": null,
            "overflow_x": null,
            "grid_auto_flow": null,
            "grid_area": null,
            "grid_template_columns": null,
            "flex": null,
            "_model_name": "LayoutModel",
            "justify_items": null,
            "grid_row": null,
            "max_height": null,
            "align_content": null,
            "visibility": null,
            "align_self": null,
            "height": null,
            "min_height": null,
            "padding": null,
            "grid_auto_rows": null,
            "grid_gap": null,
            "max_width": null,
            "order": null,
            "_view_module_version": "1.2.0",
            "grid_template_areas": null,
            "object_position": null,
            "object_fit": null,
            "grid_auto_columns": null,
            "margin": null,
            "display": null,
            "left": null
          }
        },
        "9420123f541347469d6ba2fb6ade6b25": {
          "model_module": "@jupyter-widgets/controls",
          "model_name": "TabModel",
          "model_module_version": "1.5.0",
          "state": {
            "_view_name": "TabView",
            "_dom_classes": [],
            "_titles": {
              "0": "Youtube",
              "1": "Bilibili"
            },
            "_model_name": "TabModel",
            "_view_module": "@jupyter-widgets/controls",
            "selected_index": 0,
            "_model_module_version": "1.5.0",
            "_view_count": null,
            "_view_module_version": "1.5.0",
            "box_style": "",
            "layout": "IPY_MODEL_de2e55aa8e134aae9c5207f34d59ada4",
            "_model_module": "@jupyter-widgets/controls",
            "children": [
              "IPY_MODEL_cb210d0d66204f0d9d4375686ab97455",
              "IPY_MODEL_2d7d120d0053415eb8c5336a3c52b9c0"
            ]
          }
        },
        "de2e55aa8e134aae9c5207f34d59ada4": {
          "model_module": "@jupyter-widgets/base",
          "model_name": "LayoutModel",
          "model_module_version": "1.2.0",
          "state": {
            "_view_name": "LayoutView",
            "grid_template_rows": null,
            "right": null,
            "justify_content": null,
            "_view_module": "@jupyter-widgets/base",
            "overflow": null,
            "_model_module_version": "1.2.0",
            "_view_count": null,
            "flex_flow": null,
            "width": null,
            "min_width": null,
            "border": null,
            "align_items": null,
            "bottom": null,
            "_model_module": "@jupyter-widgets/base",
            "top": null,
            "grid_column": null,
            "overflow_y": null,
            "overflow_x": null,
            "grid_auto_flow": null,
            "grid_area": null,
            "grid_template_columns": null,
            "flex": null,
            "_model_name": "LayoutModel",
            "justify_items": null,
            "grid_row": null,
            "max_height": null,
            "align_content": null,
            "visibility": null,
            "align_self": null,
            "height": null,
            "min_height": null,
            "padding": null,
            "grid_auto_rows": null,
            "grid_gap": null,
            "max_width": null,
            "order": null,
            "_view_module_version": "1.2.0",
            "grid_template_areas": null,
            "object_position": null,
            "object_fit": null,
            "grid_auto_columns": null,
            "margin": null,
            "display": null,
            "left": null
          }
        },
        "cb210d0d66204f0d9d4375686ab97455": {
          "model_module": "@jupyter-widgets/output",
          "model_name": "OutputModel",
          "model_module_version": "1.0.0",
          "state": {
            "_view_name": "OutputView",
            "msg_id": "",
            "_dom_classes": [],
            "_model_name": "OutputModel",
            "outputs": [
              {
                "output_type": "stream",
                "metadata": {
                  "tags": []
                },
                "text": "Video available at https://youtube.com/watch?v=e8Y6kNICH-8\n",
                "stream": "stdout"
              },
              {
                "output_type": "display_data",
                "metadata": {
                  "tags": []
                },
                "text/html": "\n        <iframe\n            width=\"854\"\n            height=\"480\"\n            src=\"https://www.youtube.com/embed/e8Y6kNICH-8?fs=1&rel=0\"\n            frameborder=\"0\"\n            allowfullscreen\n        ></iframe>\n        ",
                "text/plain": "<IPython.lib.display.YouTubeVideo at 0x7fee0f0a2d50>",
                "image/jpeg": "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\n"
              }
            ],
            "_view_module": "@jupyter-widgets/output",
            "_model_module_version": "1.0.0",
            "_view_count": null,
            "_view_module_version": "1.0.0",
            "layout": "IPY_MODEL_5d838eea8cfa49279417427d6c39c0cf",
            "_model_module": "@jupyter-widgets/output"
          }
        },
        "2d7d120d0053415eb8c5336a3c52b9c0": {
          "model_module": "@jupyter-widgets/output",
          "model_name": "OutputModel",
          "model_module_version": "1.0.0",
          "state": {
            "_view_name": "OutputView",
            "msg_id": "",
            "_dom_classes": [],
            "_model_name": "OutputModel",
            "outputs": [
              {
                "output_type": "stream",
                "metadata": {
                  "tags": []
                },
                "text": "Video available at https://www.bilibili.com/video/BV1rL411p7iR\n",
                "stream": "stdout"
              },
              {
                "output_type": "display_data",
                "metadata": {
                  "tags": []
                },
                "text/html": "\n        <iframe\n            width=\"854\"\n            height=\"480\"\n            src=\"https://player.bilibili.com/player.html?bvid=BV1rL411p7iR&page=1?fs=1\"\n            frameborder=\"0\"\n            allowfullscreen\n        ></iframe>\n        ",
                "text/plain": "<__main__.BiliVideo at 0x7fee0f0a2c90>"
              }
            ],
            "_view_module": "@jupyter-widgets/output",
            "_model_module_version": "1.0.0",
            "_view_count": null,
            "_view_module_version": "1.0.0",
            "layout": "IPY_MODEL_fbdbe62805404871a06a6bf4b6e04463",
            "_model_module": "@jupyter-widgets/output"
          }
        },
        "5d838eea8cfa49279417427d6c39c0cf": {
          "model_module": "@jupyter-widgets/base",
          "model_name": "LayoutModel",
          "model_module_version": "1.2.0",
          "state": {
            "_view_name": "LayoutView",
            "grid_template_rows": null,
            "right": null,
            "justify_content": null,
            "_view_module": "@jupyter-widgets/base",
            "overflow": null,
            "_model_module_version": "1.2.0",
            "_view_count": null,
            "flex_flow": null,
            "width": null,
            "min_width": null,
            "border": null,
            "align_items": null,
            "bottom": null,
            "_model_module": "@jupyter-widgets/base",
            "top": null,
            "grid_column": null,
            "overflow_y": null,
            "overflow_x": null,
            "grid_auto_flow": null,
            "grid_area": null,
            "grid_template_columns": null,
            "flex": null,
            "_model_name": "LayoutModel",
            "justify_items": null,
            "grid_row": null,
            "max_height": null,
            "align_content": null,
            "visibility": null,
            "align_self": null,
            "height": null,
            "min_height": null,
            "padding": null,
            "grid_auto_rows": null,
            "grid_gap": null,
            "max_width": null,
            "order": null,
            "_view_module_version": "1.2.0",
            "grid_template_areas": null,
            "object_position": null,
            "object_fit": null,
            "grid_auto_columns": null,
            "margin": null,
            "display": null,
            "left": null
          }
        },
        "fbdbe62805404871a06a6bf4b6e04463": {
          "model_module": "@jupyter-widgets/base",
          "model_name": "LayoutModel",
          "model_module_version": "1.2.0",
          "state": {
            "_view_name": "LayoutView",
            "grid_template_rows": null,
            "right": null,
            "justify_content": null,
            "_view_module": "@jupyter-widgets/base",
            "overflow": null,
            "_model_module_version": "1.2.0",
            "_view_count": null,
            "flex_flow": null,
            "width": null,
            "min_width": null,
            "border": null,
            "align_items": null,
            "bottom": null,
            "_model_module": "@jupyter-widgets/base",
            "top": null,
            "grid_column": null,
            "overflow_y": null,
            "overflow_x": null,
            "grid_auto_flow": null,
            "grid_area": null,
            "grid_template_columns": null,
            "flex": null,
            "_model_name": "LayoutModel",
            "justify_items": null,
            "grid_row": null,
            "max_height": null,
            "align_content": null,
            "visibility": null,
            "align_self": null,
            "height": null,
            "min_height": null,
            "padding": null,
            "grid_auto_rows": null,
            "grid_gap": null,
            "max_width": null,
            "order": null,
            "_view_module_version": "1.2.0",
            "grid_template_areas": null,
            "object_position": null,
            "object_fit": null,
            "grid_auto_columns": null,
            "margin": null,
            "display": null,
            "left": null
          }
        },
        "de06abe91481454b8db369f2e54aa346": {
          "model_module": "@jupyter-widgets/controls",
          "model_name": "VBoxModel",
          "model_module_version": "1.5.0",
          "state": {
            "_view_name": "VBoxView",
            "_dom_classes": [
              "widget-interact"
            ],
            "_model_name": "VBoxModel",
            "_view_module": "@jupyter-widgets/controls",
            "_model_module_version": "1.5.0",
            "_view_count": null,
            "_view_module_version": "1.5.0",
            "box_style": "",
            "layout": "IPY_MODEL_6556b063d3d448de97c81042224f062d",
            "_model_module": "@jupyter-widgets/controls",
            "children": [
              "IPY_MODEL_d2d31bb5b87b4349b97483795318be1f",
              "IPY_MODEL_8fd0aa588b8e4c30aaa340f7ee7403d2",
              "IPY_MODEL_838efba13e9d435e8f6e559cf0d5b1ed"
            ]
          }
        },
        "6556b063d3d448de97c81042224f062d": {
          "model_module": "@jupyter-widgets/base",
          "model_name": "LayoutModel",
          "model_module_version": "1.2.0",
          "state": {
            "_view_name": "LayoutView",
            "grid_template_rows": null,
            "right": null,
            "justify_content": null,
            "_view_module": "@jupyter-widgets/base",
            "overflow": null,
            "_model_module_version": "1.2.0",
            "_view_count": null,
            "flex_flow": null,
            "width": null,
            "min_width": null,
            "border": null,
            "align_items": null,
            "bottom": null,
            "_model_module": "@jupyter-widgets/base",
            "top": null,
            "grid_column": null,
            "overflow_y": null,
            "overflow_x": null,
            "grid_auto_flow": null,
            "grid_area": null,
            "grid_template_columns": null,
            "flex": null,
            "_model_name": "LayoutModel",
            "justify_items": null,
            "grid_row": null,
            "max_height": null,
            "align_content": null,
            "visibility": null,
            "align_self": null,
            "height": null,
            "min_height": null,
            "padding": null,
            "grid_auto_rows": null,
            "grid_gap": null,
            "max_width": null,
            "order": null,
            "_view_module_version": "1.2.0",
            "grid_template_areas": null,
            "object_position": null,
            "object_fit": null,
            "grid_auto_columns": null,
            "margin": null,
            "display": null,
            "left": null
          }
        },
        "d2d31bb5b87b4349b97483795318be1f": {
          "model_module": "@jupyter-widgets/controls",
          "model_name": "FloatSliderModel",
          "model_module_version": "1.5.0",
          "state": {
            "_view_name": "FloatSliderView",
            "style": "IPY_MODEL_f4bf654602f04118a187c06019cf2e9c",
            "_dom_classes": [],
            "description": "a",
            "step": 0.1,
            "_model_name": "FloatSliderModel",
            "orientation": "horizontal",
            "max": 2,
            "_view_module": "@jupyter-widgets/controls",
            "_model_module_version": "1.5.0",
            "value": 1.6,
            "_view_count": null,
            "disabled": false,
            "_view_module_version": "1.5.0",
            "min": -2,
            "continuous_update": true,
            "readout_format": ".2f",
            "description_tooltip": null,
            "readout": true,
            "_model_module": "@jupyter-widgets/controls",
            "layout": "IPY_MODEL_66114cbcd0d34c48907b8fd67cf959cf"
          }
        },
        "8fd0aa588b8e4c30aaa340f7ee7403d2": {
          "model_module": "@jupyter-widgets/controls",
          "model_name": "FloatSliderModel",
          "model_module_version": "1.5.0",
          "state": {
            "_view_name": "FloatSliderView",
            "style": "IPY_MODEL_d4294fdfa7fa407596349b7c4c186fd1",
            "_dom_classes": [],
            "description": "b",
            "step": 0.1,
            "_model_name": "FloatSliderModel",
            "orientation": "horizontal",
            "max": 2,
            "_view_module": "@jupyter-widgets/controls",
            "_model_module_version": "1.5.0",
            "value": -1.6,
            "_view_count": null,
            "disabled": false,
            "_view_module_version": "1.5.0",
            "min": -2,
            "continuous_update": true,
            "readout_format": ".2f",
            "description_tooltip": null,
            "readout": true,
            "_model_module": "@jupyter-widgets/controls",
            "layout": "IPY_MODEL_b91f16a086a64dd19bf2ae2182376452"
          }
        },
        "838efba13e9d435e8f6e559cf0d5b1ed": {
          "model_module": "@jupyter-widgets/output",
          "model_name": "OutputModel",
          "model_module_version": "1.0.0",
          "state": {
            "_view_name": "OutputView",
            "msg_id": "",
            "_dom_classes": [],
            "_model_name": "OutputModel",
            "outputs": [
              {
                "output_type": "display_data",
                "metadata": {
                  "tags": [],
                  "image/png": {
                    "width": 752,
                    "height": 485
                  },
                  "needs_background": "light"
                },
                "image/png": "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\n",
                "text/plain": "<Figure size 720x504 with 1 Axes>"
              }
            ],
            "_view_module": "@jupyter-widgets/output",
            "_model_module_version": "1.0.0",
            "_view_count": null,
            "_view_module_version": "1.0.0",
            "layout": "IPY_MODEL_5ee8605db4b74c4aa20cb7158d04c98e",
            "_model_module": "@jupyter-widgets/output"
          }
        },
        "f4bf654602f04118a187c06019cf2e9c": {
          "model_module": "@jupyter-widgets/controls",
          "model_name": "SliderStyleModel",
          "model_module_version": "1.5.0",
          "state": {
            "_view_name": "StyleView",
            "handle_color": null,
            "_model_name": "SliderStyleModel",
            "description_width": "",
            "_view_module": "@jupyter-widgets/base",
            "_model_module_version": "1.5.0",
            "_view_count": null,
            "_view_module_version": "1.2.0",
            "_model_module": "@jupyter-widgets/controls"
          }
        },
        "66114cbcd0d34c48907b8fd67cf959cf": {
          "model_module": "@jupyter-widgets/base",
          "model_name": "LayoutModel",
          "model_module_version": "1.2.0",
          "state": {
            "_view_name": "LayoutView",
            "grid_template_rows": null,
            "right": null,
            "justify_content": null,
            "_view_module": "@jupyter-widgets/base",
            "overflow": null,
            "_model_module_version": "1.2.0",
            "_view_count": null,
            "flex_flow": null,
            "width": null,
            "min_width": null,
            "border": null,
            "align_items": null,
            "bottom": null,
            "_model_module": "@jupyter-widgets/base",
            "top": null,
            "grid_column": null,
            "overflow_y": null,
            "overflow_x": null,
            "grid_auto_flow": null,
            "grid_area": null,
            "grid_template_columns": null,
            "flex": null,
            "_model_name": "LayoutModel",
            "justify_items": null,
            "grid_row": null,
            "max_height": null,
            "align_content": null,
            "visibility": null,
            "align_self": null,
            "height": null,
            "min_height": null,
            "padding": null,
            "grid_auto_rows": null,
            "grid_gap": null,
            "max_width": null,
            "order": null,
            "_view_module_version": "1.2.0",
            "grid_template_areas": null,
            "object_position": null,
            "object_fit": null,
            "grid_auto_columns": null,
            "margin": null,
            "display": null,
            "left": null
          }
        },
        "d4294fdfa7fa407596349b7c4c186fd1": {
          "model_module": "@jupyter-widgets/controls",
          "model_name": "SliderStyleModel",
          "model_module_version": "1.5.0",
          "state": {
            "_view_name": "StyleView",
            "handle_color": null,
            "_model_name": "SliderStyleModel",
            "description_width": "",
            "_view_module": "@jupyter-widgets/base",
            "_model_module_version": "1.5.0",
            "_view_count": null,
            "_view_module_version": "1.2.0",
            "_model_module": "@jupyter-widgets/controls"
          }
        },
        "b91f16a086a64dd19bf2ae2182376452": {
          "model_module": "@jupyter-widgets/base",
          "model_name": "LayoutModel",
          "model_module_version": "1.2.0",
          "state": {
            "_view_name": "LayoutView",
            "grid_template_rows": null,
            "right": null,
            "justify_content": null,
            "_view_module": "@jupyter-widgets/base",
            "overflow": null,
            "_model_module_version": "1.2.0",
            "_view_count": null,
            "flex_flow": null,
            "width": null,
            "min_width": null,
            "border": null,
            "align_items": null,
            "bottom": null,
            "_model_module": "@jupyter-widgets/base",
            "top": null,
            "grid_column": null,
            "overflow_y": null,
            "overflow_x": null,
            "grid_auto_flow": null,
            "grid_area": null,
            "grid_template_columns": null,
            "flex": null,
            "_model_name": "LayoutModel",
            "justify_items": null,
            "grid_row": null,
            "max_height": null,
            "align_content": null,
            "visibility": null,
            "align_self": null,
            "height": null,
            "min_height": null,
            "padding": null,
            "grid_auto_rows": null,
            "grid_gap": null,
            "max_width": null,
            "order": null,
            "_view_module_version": "1.2.0",
            "grid_template_areas": null,
            "object_position": null,
            "object_fit": null,
            "grid_auto_columns": null,
            "margin": null,
            "display": null,
            "left": null
          }
        },
        "5ee8605db4b74c4aa20cb7158d04c98e": {
          "model_module": "@jupyter-widgets/base",
          "model_name": "LayoutModel",
          "model_module_version": "1.2.0",
          "state": {
            "_view_name": "LayoutView",
            "grid_template_rows": null,
            "right": null,
            "justify_content": null,
            "_view_module": "@jupyter-widgets/base",
            "overflow": null,
            "_model_module_version": "1.2.0",
            "_view_count": null,
            "flex_flow": null,
            "width": null,
            "min_width": null,
            "border": null,
            "align_items": null,
            "bottom": null,
            "_model_module": "@jupyter-widgets/base",
            "top": null,
            "grid_column": null,
            "overflow_y": null,
            "overflow_x": null,
            "grid_auto_flow": null,
            "grid_area": null,
            "grid_template_columns": null,
            "flex": null,
            "_model_name": "LayoutModel",
            "justify_items": null,
            "grid_row": null,
            "max_height": null,
            "align_content": null,
            "visibility": null,
            "align_self": null,
            "height": null,
            "min_height": null,
            "padding": null,
            "grid_auto_rows": null,
            "grid_gap": null,
            "max_width": null,
            "order": null,
            "_view_module_version": "1.2.0",
            "grid_template_areas": null,
            "object_position": null,
            "object_fit": null,
            "grid_auto_columns": null,
            "margin": null,
            "display": null,
            "left": null
          }
        },
        "c7f2492a002e410d948c1e84cbf91769": {
          "model_module": "@jupyter-widgets/controls",
          "model_name": "TabModel",
          "model_module_version": "1.5.0",
          "state": {
            "_view_name": "TabView",
            "_dom_classes": [],
            "_titles": {
              "0": "Youtube",
              "1": "Bilibili"
            },
            "_model_name": "TabModel",
            "_view_module": "@jupyter-widgets/controls",
            "selected_index": 0,
            "_model_module_version": "1.5.0",
            "_view_count": null,
            "_view_module_version": "1.5.0",
            "box_style": "",
            "layout": "IPY_MODEL_f9bcb8d524d24873a27473e85a2dc418",
            "_model_module": "@jupyter-widgets/controls",
            "children": [
              "IPY_MODEL_af69b3d07b85429986dab35e1aad06d4",
              "IPY_MODEL_993f87152bbd491a8c87a0ec7611209c"
            ]
          }
        },
        "f9bcb8d524d24873a27473e85a2dc418": {
          "model_module": "@jupyter-widgets/base",
          "model_name": "LayoutModel",
          "model_module_version": "1.2.0",
          "state": {
            "_view_name": "LayoutView",
            "grid_template_rows": null,
            "right": null,
            "justify_content": null,
            "_view_module": "@jupyter-widgets/base",
            "overflow": null,
            "_model_module_version": "1.2.0",
            "_view_count": null,
            "flex_flow": null,
            "width": null,
            "min_width": null,
            "border": null,
            "align_items": null,
            "bottom": null,
            "_model_module": "@jupyter-widgets/base",
            "top": null,
            "grid_column": null,
            "overflow_y": null,
            "overflow_x": null,
            "grid_auto_flow": null,
            "grid_area": null,
            "grid_template_columns": null,
            "flex": null,
            "_model_name": "LayoutModel",
            "justify_items": null,
            "grid_row": null,
            "max_height": null,
            "align_content": null,
            "visibility": null,
            "align_self": null,
            "height": null,
            "min_height": null,
            "padding": null,
            "grid_auto_rows": null,
            "grid_gap": null,
            "max_width": null,
            "order": null,
            "_view_module_version": "1.2.0",
            "grid_template_areas": null,
            "object_position": null,
            "object_fit": null,
            "grid_auto_columns": null,
            "margin": null,
            "display": null,
            "left": null
          }
        },
        "af69b3d07b85429986dab35e1aad06d4": {
          "model_module": "@jupyter-widgets/output",
          "model_name": "OutputModel",
          "model_module_version": "1.0.0",
          "state": {
            "_view_name": "OutputView",
            "msg_id": "",
            "_dom_classes": [],
            "_model_name": "OutputModel",
            "outputs": [
              {
                "output_type": "stream",
                "metadata": {
                  "tags": []
                },
                "text": "Video available at https://youtube.com/watch?v=g7DoHnZkUlw\n",
                "stream": "stdout"
              },
              {
                "output_type": "display_data",
                "metadata": {
                  "tags": []
                },
                "text/html": "\n        <iframe\n            width=\"854\"\n            height=\"480\"\n            src=\"https://www.youtube.com/embed/g7DoHnZkUlw?fs=1&rel=0\"\n            frameborder=\"0\"\n            allowfullscreen\n        ></iframe>\n        ",
                "text/plain": "<IPython.lib.display.YouTubeVideo at 0x7fee069649d0>",
                "image/jpeg": "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\n"
              }
            ],
            "_view_module": "@jupyter-widgets/output",
            "_model_module_version": "1.0.0",
            "_view_count": null,
            "_view_module_version": "1.0.0",
            "layout": "IPY_MODEL_6feec9691a454fef978d5bad4c1ddf33",
            "_model_module": "@jupyter-widgets/output"
          }
        },
        "993f87152bbd491a8c87a0ec7611209c": {
          "model_module": "@jupyter-widgets/output",
          "model_name": "OutputModel",
          "model_module_version": "1.0.0",
          "state": {
            "_view_name": "OutputView",
            "msg_id": "",
            "_dom_classes": [],
            "_model_name": "OutputModel",
            "outputs": [
              {
                "output_type": "stream",
                "metadata": {
                  "tags": []
                },
                "text": "Video available at https://www.bilibili.com/video/BV1iv411H7bK\n",
                "stream": "stdout"
              },
              {
                "output_type": "display_data",
                "metadata": {
                  "tags": []
                },
                "text/html": "\n        <iframe\n            width=\"854\"\n            height=\"480\"\n            src=\"https://player.bilibili.com/player.html?bvid=BV1iv411H7bK&page=1?fs=1\"\n            frameborder=\"0\"\n            allowfullscreen\n        ></iframe>\n        ",
                "text/plain": "<__main__.BiliVideo at 0x7fee06a53cd0>"
              }
            ],
            "_view_module": "@jupyter-widgets/output",
            "_model_module_version": "1.0.0",
            "_view_count": null,
            "_view_module_version": "1.0.0",
            "layout": "IPY_MODEL_37d309cb4eac4a74a90b644c213e0e34",
            "_model_module": "@jupyter-widgets/output"
          }
        },
        "6feec9691a454fef978d5bad4c1ddf33": {
          "model_module": "@jupyter-widgets/base",
          "model_name": "LayoutModel",
          "model_module_version": "1.2.0",
          "state": {
            "_view_name": "LayoutView",
            "grid_template_rows": null,
            "right": null,
            "justify_content": null,
            "_view_module": "@jupyter-widgets/base",
            "overflow": null,
            "_model_module_version": "1.2.0",
            "_view_count": null,
            "flex_flow": null,
            "width": null,
            "min_width": null,
            "border": null,
            "align_items": null,
            "bottom": null,
            "_model_module": "@jupyter-widgets/base",
            "top": null,
            "grid_column": null,
            "overflow_y": null,
            "overflow_x": null,
            "grid_auto_flow": null,
            "grid_area": null,
            "grid_template_columns": null,
            "flex": null,
            "_model_name": "LayoutModel",
            "justify_items": null,
            "grid_row": null,
            "max_height": null,
            "align_content": null,
            "visibility": null,
            "align_self": null,
            "height": null,
            "min_height": null,
            "padding": null,
            "grid_auto_rows": null,
            "grid_gap": null,
            "max_width": null,
            "order": null,
            "_view_module_version": "1.2.0",
            "grid_template_areas": null,
            "object_position": null,
            "object_fit": null,
            "grid_auto_columns": null,
            "margin": null,
            "display": null,
            "left": null
          }
        },
        "37d309cb4eac4a74a90b644c213e0e34": {
          "model_module": "@jupyter-widgets/base",
          "model_name": "LayoutModel",
          "model_module_version": "1.2.0",
          "state": {
            "_view_name": "LayoutView",
            "grid_template_rows": null,
            "right": null,
            "justify_content": null,
            "_view_module": "@jupyter-widgets/base",
            "overflow": null,
            "_model_module_version": "1.2.0",
            "_view_count": null,
            "flex_flow": null,
            "width": null,
            "min_width": null,
            "border": null,
            "align_items": null,
            "bottom": null,
            "_model_module": "@jupyter-widgets/base",
            "top": null,
            "grid_column": null,
            "overflow_y": null,
            "overflow_x": null,
            "grid_auto_flow": null,
            "grid_area": null,
            "grid_template_columns": null,
            "flex": null,
            "_model_name": "LayoutModel",
            "justify_items": null,
            "grid_row": null,
            "max_height": null,
            "align_content": null,
            "visibility": null,
            "align_self": null,
            "height": null,
            "min_height": null,
            "padding": null,
            "grid_auto_rows": null,
            "grid_gap": null,
            "max_width": null,
            "order": null,
            "_view_module_version": "1.2.0",
            "grid_template_areas": null,
            "object_position": null,
            "object_fit": null,
            "grid_auto_columns": null,
            "margin": null,
            "display": null,
            "left": null
          }
        },
        "73ab6520e06042e38817c28a8679f9ce": {
          "model_module": "@jupyter-widgets/controls",
          "model_name": "TabModel",
          "model_module_version": "1.5.0",
          "state": {
            "_view_name": "TabView",
            "_dom_classes": [],
            "_titles": {
              "0": "Youtube",
              "1": "Bilibili"
            },
            "_model_name": "TabModel",
            "_view_module": "@jupyter-widgets/controls",
            "selected_index": 0,
            "_model_module_version": "1.5.0",
            "_view_count": null,
            "_view_module_version": "1.5.0",
            "box_style": "",
            "layout": "IPY_MODEL_8e8601af635e42249ebe023ce2c1aa25",
            "_model_module": "@jupyter-widgets/controls",
            "children": [
              "IPY_MODEL_3f54ab92861e4765ba367af3a7b4b373",
              "IPY_MODEL_5f12f7604b7a4a048d0e5f14c7fd977a"
            ]
          }
        },
        "8e8601af635e42249ebe023ce2c1aa25": {
          "model_module": "@jupyter-widgets/base",
          "model_name": "LayoutModel",
          "model_module_version": "1.2.0",
          "state": {
            "_view_name": "LayoutView",
            "grid_template_rows": null,
            "right": null,
            "justify_content": null,
            "_view_module": "@jupyter-widgets/base",
            "overflow": null,
            "_model_module_version": "1.2.0",
            "_view_count": null,
            "flex_flow": null,
            "width": null,
            "min_width": null,
            "border": null,
            "align_items": null,
            "bottom": null,
            "_model_module": "@jupyter-widgets/base",
            "top": null,
            "grid_column": null,
            "overflow_y": null,
            "overflow_x": null,
            "grid_auto_flow": null,
            "grid_area": null,
            "grid_template_columns": null,
            "flex": null,
            "_model_name": "LayoutModel",
            "justify_items": null,
            "grid_row": null,
            "max_height": null,
            "align_content": null,
            "visibility": null,
            "align_self": null,
            "height": null,
            "min_height": null,
            "padding": null,
            "grid_auto_rows": null,
            "grid_gap": null,
            "max_width": null,
            "order": null,
            "_view_module_version": "1.2.0",
            "grid_template_areas": null,
            "object_position": null,
            "object_fit": null,
            "grid_auto_columns": null,
            "margin": null,
            "display": null,
            "left": null
          }
        },
        "3f54ab92861e4765ba367af3a7b4b373": {
          "model_module": "@jupyter-widgets/output",
          "model_name": "OutputModel",
          "model_module_version": "1.0.0",
          "state": {
            "_view_name": "OutputView",
            "msg_id": "",
            "_dom_classes": [],
            "_model_name": "OutputModel",
            "outputs": [
              {
                "output_type": "stream",
                "metadata": {
                  "tags": []
                },
                "text": "Video available at https://youtube.com/watch?v=Ene_TYyTdNM\n",
                "stream": "stdout"
              },
              {
                "output_type": "display_data",
                "metadata": {
                  "tags": []
                },
                "text/html": "\n        <iframe\n            width=\"854\"\n            height=\"480\"\n            src=\"https://www.youtube.com/embed/Ene_TYyTdNM?fs=1&rel=0\"\n            frameborder=\"0\"\n            allowfullscreen\n        ></iframe>\n        ",
                "text/plain": "<IPython.lib.display.YouTubeVideo at 0x7fee06687b90>",
                "image/jpeg": "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\n"
              }
            ],
            "_view_module": "@jupyter-widgets/output",
            "_model_module_version": "1.0.0",
            "_view_count": null,
            "_view_module_version": "1.0.0",
            "layout": "IPY_MODEL_8fbb36f87ab94ebb8bbc22b7c047e36e",
            "_model_module": "@jupyter-widgets/output"
          }
        },
        "5f12f7604b7a4a048d0e5f14c7fd977a": {
          "model_module": "@jupyter-widgets/output",
          "model_name": "OutputModel",
          "model_module_version": "1.0.0",
          "state": {
            "_view_name": "OutputView",
            "msg_id": "",
            "_dom_classes": [],
            "_model_name": "OutputModel",
            "outputs": [
              {
                "output_type": "stream",
                "metadata": {
                  "tags": []
                },
                "text": "Video available at https://www.bilibili.com/video/BV1Wh411h7KM\n",
                "stream": "stdout"
              },
              {
                "output_type": "display_data",
                "metadata": {
                  "tags": []
                },
                "text/html": "\n        <iframe\n            width=\"854\"\n            height=\"480\"\n            src=\"https://player.bilibili.com/player.html?bvid=BV1Wh411h7KM&page=1?fs=1\"\n            frameborder=\"0\"\n            allowfullscreen\n        ></iframe>\n        ",
                "text/plain": "<__main__.BiliVideo at 0x7fee067c4910>"
              }
            ],
            "_view_module": "@jupyter-widgets/output",
            "_model_module_version": "1.0.0",
            "_view_count": null,
            "_view_module_version": "1.0.0",
            "layout": "IPY_MODEL_08b13a9ceedc4848ac101d78d49f0568",
            "_model_module": "@jupyter-widgets/output"
          }
        },
        "8fbb36f87ab94ebb8bbc22b7c047e36e": {
          "model_module": "@jupyter-widgets/base",
          "model_name": "LayoutModel",
          "model_module_version": "1.2.0",
          "state": {
            "_view_name": "LayoutView",
            "grid_template_rows": null,
            "right": null,
            "justify_content": null,
            "_view_module": "@jupyter-widgets/base",
            "overflow": null,
            "_model_module_version": "1.2.0",
            "_view_count": null,
            "flex_flow": null,
            "width": null,
            "min_width": null,
            "border": null,
            "align_items": null,
            "bottom": null,
            "_model_module": "@jupyter-widgets/base",
            "top": null,
            "grid_column": null,
            "overflow_y": null,
            "overflow_x": null,
            "grid_auto_flow": null,
            "grid_area": null,
            "grid_template_columns": null,
            "flex": null,
            "_model_name": "LayoutModel",
            "justify_items": null,
            "grid_row": null,
            "max_height": null,
            "align_content": null,
            "visibility": null,
            "align_self": null,
            "height": null,
            "min_height": null,
            "padding": null,
            "grid_auto_rows": null,
            "grid_gap": null,
            "max_width": null,
            "order": null,
            "_view_module_version": "1.2.0",
            "grid_template_areas": null,
            "object_position": null,
            "object_fit": null,
            "grid_auto_columns": null,
            "margin": null,
            "display": null,
            "left": null
          }
        },
        "08b13a9ceedc4848ac101d78d49f0568": {
          "model_module": "@jupyter-widgets/base",
          "model_name": "LayoutModel",
          "model_module_version": "1.2.0",
          "state": {
            "_view_name": "LayoutView",
            "grid_template_rows": null,
            "right": null,
            "justify_content": null,
            "_view_module": "@jupyter-widgets/base",
            "overflow": null,
            "_model_module_version": "1.2.0",
            "_view_count": null,
            "flex_flow": null,
            "width": null,
            "min_width": null,
            "border": null,
            "align_items": null,
            "bottom": null,
            "_model_module": "@jupyter-widgets/base",
            "top": null,
            "grid_column": null,
            "overflow_y": null,
            "overflow_x": null,
            "grid_auto_flow": null,
            "grid_area": null,
            "grid_template_columns": null,
            "flex": null,
            "_model_name": "LayoutModel",
            "justify_items": null,
            "grid_row": null,
            "max_height": null,
            "align_content": null,
            "visibility": null,
            "align_self": null,
            "height": null,
            "min_height": null,
            "padding": null,
            "grid_auto_rows": null,
            "grid_gap": null,
            "max_width": null,
            "order": null,
            "_view_module_version": "1.2.0",
            "grid_template_areas": null,
            "object_position": null,
            "object_fit": null,
            "grid_auto_columns": null,
            "margin": null,
            "display": null,
            "left": null
          }
        },
        "e5a251d0237b4de2aa232acf014283c9": {
          "model_module": "@jupyter-widgets/controls",
          "model_name": "VBoxModel",
          "model_module_version": "1.5.0",
          "state": {
            "_view_name": "VBoxView",
            "_dom_classes": [
              "widget-interact"
            ],
            "_model_name": "VBoxModel",
            "_view_module": "@jupyter-widgets/controls",
            "_model_module_version": "1.5.0",
            "_view_count": null,
            "_view_module_version": "1.5.0",
            "box_style": "",
            "layout": "IPY_MODEL_784b09014e864189a375e65ab88d3835",
            "_model_module": "@jupyter-widgets/controls",
            "children": [
              "IPY_MODEL_74712742ae724aed93fea6afa13a8fb6",
              "IPY_MODEL_a8976eb500be47dd83358aaa7f2cc2d1",
              "IPY_MODEL_77d340fae47e4cc49d3d5fd64b74759d"
            ]
          }
        },
        "784b09014e864189a375e65ab88d3835": {
          "model_module": "@jupyter-widgets/base",
          "model_name": "LayoutModel",
          "model_module_version": "1.2.0",
          "state": {
            "_view_name": "LayoutView",
            "grid_template_rows": null,
            "right": null,
            "justify_content": null,
            "_view_module": "@jupyter-widgets/base",
            "overflow": null,
            "_model_module_version": "1.2.0",
            "_view_count": null,
            "flex_flow": null,
            "width": null,
            "min_width": null,
            "border": null,
            "align_items": null,
            "bottom": null,
            "_model_module": "@jupyter-widgets/base",
            "top": null,
            "grid_column": null,
            "overflow_y": null,
            "overflow_x": null,
            "grid_auto_flow": null,
            "grid_area": null,
            "grid_template_columns": null,
            "flex": null,
            "_model_name": "LayoutModel",
            "justify_items": null,
            "grid_row": null,
            "max_height": null,
            "align_content": null,
            "visibility": null,
            "align_self": null,
            "height": null,
            "min_height": null,
            "padding": null,
            "grid_auto_rows": null,
            "grid_gap": null,
            "max_width": null,
            "order": null,
            "_view_module_version": "1.2.0",
            "grid_template_areas": null,
            "object_position": null,
            "object_fit": null,
            "grid_auto_columns": null,
            "margin": null,
            "display": null,
            "left": null
          }
        },
        "74712742ae724aed93fea6afa13a8fb6": {
          "model_module": "@jupyter-widgets/controls",
          "model_name": "FloatSliderModel",
          "model_module_version": "1.5.0",
          "state": {
            "_view_name": "FloatSliderView",
            "style": "IPY_MODEL_30da55e5fdc2453486a3435462561d33",
            "_dom_classes": [],
            "description": "neuron1_firing",
            "step": 1,
            "_model_name": "FloatSliderModel",
            "orientation": "horizontal",
            "max": 4,
            "_view_module": "@jupyter-widgets/controls",
            "_model_module_version": "1.5.0",
            "value": 4,
            "_view_count": null,
            "disabled": false,
            "_view_module_version": "1.5.0",
            "min": -4,
            "continuous_update": true,
            "readout_format": ".2f",
            "description_tooltip": null,
            "readout": true,
            "_model_module": "@jupyter-widgets/controls",
            "layout": "IPY_MODEL_eb799713d15141ac8e6285e6df881e61"
          }
        },
        "a8976eb500be47dd83358aaa7f2cc2d1": {
          "model_module": "@jupyter-widgets/controls",
          "model_name": "FloatSliderModel",
          "model_module_version": "1.5.0",
          "state": {
            "_view_name": "FloatSliderView",
            "style": "IPY_MODEL_878547719fc944b4b9a2051d40927ed7",
            "_dom_classes": [],
            "description": "neuron2_firing",
            "step": 1,
            "_model_name": "FloatSliderModel",
            "orientation": "horizontal",
            "max": 4,
            "_view_module": "@jupyter-widgets/controls",
            "_model_module_version": "1.5.0",
            "value": -3,
            "_view_count": null,
            "disabled": false,
            "_view_module_version": "1.5.0",
            "min": -4,
            "continuous_update": true,
            "readout_format": ".2f",
            "description_tooltip": null,
            "readout": true,
            "_model_module": "@jupyter-widgets/controls",
            "layout": "IPY_MODEL_8d2b12163b6f48c1a34858cf6c809b72"
          }
        },
        "77d340fae47e4cc49d3d5fd64b74759d": {
          "model_module": "@jupyter-widgets/output",
          "model_name": "OutputModel",
          "model_module_version": "1.0.0",
          "state": {
            "_view_name": "OutputView",
            "msg_id": "",
            "_dom_classes": [],
            "_model_name": "OutputModel",
            "outputs": [
              {
                "output_type": "display_data",
                "metadata": {
                  "tags": [],
                  "image/png": {
                    "width": 444,
                    "height": 413
                  },
                  "needs_background": "light"
                },
                "image/png": "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\n",
                "text/plain": "<Figure size 576x432 with 2 Axes>"
              }
            ],
            "_view_module": "@jupyter-widgets/output",
            "_model_module_version": "1.0.0",
            "_view_count": null,
            "_view_module_version": "1.0.0",
            "layout": "IPY_MODEL_89eff288ecf44139bc89575f60805509",
            "_model_module": "@jupyter-widgets/output"
          }
        },
        "30da55e5fdc2453486a3435462561d33": {
          "model_module": "@jupyter-widgets/controls",
          "model_name": "SliderStyleModel",
          "model_module_version": "1.5.0",
          "state": {
            "_view_name": "StyleView",
            "handle_color": null,
            "_model_name": "SliderStyleModel",
            "description_width": "initial",
            "_view_module": "@jupyter-widgets/base",
            "_model_module_version": "1.5.0",
            "_view_count": null,
            "_view_module_version": "1.2.0",
            "_model_module": "@jupyter-widgets/controls"
          }
        },
        "eb799713d15141ac8e6285e6df881e61": {
          "model_module": "@jupyter-widgets/base",
          "model_name": "LayoutModel",
          "model_module_version": "1.2.0",
          "state": {
            "_view_name": "LayoutView",
            "grid_template_rows": null,
            "right": null,
            "justify_content": null,
            "_view_module": "@jupyter-widgets/base",
            "overflow": null,
            "_model_module_version": "1.2.0",
            "_view_count": null,
            "flex_flow": null,
            "width": null,
            "min_width": null,
            "border": null,
            "align_items": null,
            "bottom": null,
            "_model_module": "@jupyter-widgets/base",
            "top": null,
            "grid_column": null,
            "overflow_y": null,
            "overflow_x": null,
            "grid_auto_flow": null,
            "grid_area": null,
            "grid_template_columns": null,
            "flex": null,
            "_model_name": "LayoutModel",
            "justify_items": null,
            "grid_row": null,
            "max_height": null,
            "align_content": null,
            "visibility": null,
            "align_self": null,
            "height": null,
            "min_height": null,
            "padding": null,
            "grid_auto_rows": null,
            "grid_gap": null,
            "max_width": null,
            "order": null,
            "_view_module_version": "1.2.0",
            "grid_template_areas": null,
            "object_position": null,
            "object_fit": null,
            "grid_auto_columns": null,
            "margin": null,
            "display": null,
            "left": null
          }
        },
        "878547719fc944b4b9a2051d40927ed7": {
          "model_module": "@jupyter-widgets/controls",
          "model_name": "SliderStyleModel",
          "model_module_version": "1.5.0",
          "state": {
            "_view_name": "StyleView",
            "handle_color": null,
            "_model_name": "SliderStyleModel",
            "description_width": "initial",
            "_view_module": "@jupyter-widgets/base",
            "_model_module_version": "1.5.0",
            "_view_count": null,
            "_view_module_version": "1.2.0",
            "_model_module": "@jupyter-widgets/controls"
          }
        },
        "8d2b12163b6f48c1a34858cf6c809b72": {
          "model_module": "@jupyter-widgets/base",
          "model_name": "LayoutModel",
          "model_module_version": "1.2.0",
          "state": {
            "_view_name": "LayoutView",
            "grid_template_rows": null,
            "right": null,
            "justify_content": null,
            "_view_module": "@jupyter-widgets/base",
            "overflow": null,
            "_model_module_version": "1.2.0",
            "_view_count": null,
            "flex_flow": null,
            "width": null,
            "min_width": null,
            "border": null,
            "align_items": null,
            "bottom": null,
            "_model_module": "@jupyter-widgets/base",
            "top": null,
            "grid_column": null,
            "overflow_y": null,
            "overflow_x": null,
            "grid_auto_flow": null,
            "grid_area": null,
            "grid_template_columns": null,
            "flex": null,
            "_model_name": "LayoutModel",
            "justify_items": null,
            "grid_row": null,
            "max_height": null,
            "align_content": null,
            "visibility": null,
            "align_self": null,
            "height": null,
            "min_height": null,
            "padding": null,
            "grid_auto_rows": null,
            "grid_gap": null,
            "max_width": null,
            "order": null,
            "_view_module_version": "1.2.0",
            "grid_template_areas": null,
            "object_position": null,
            "object_fit": null,
            "grid_auto_columns": null,
            "margin": null,
            "display": null,
            "left": null
          }
        },
        "89eff288ecf44139bc89575f60805509": {
          "model_module": "@jupyter-widgets/base",
          "model_name": "LayoutModel",
          "model_module_version": "1.2.0",
          "state": {
            "_view_name": "LayoutView",
            "grid_template_rows": null,
            "right": null,
            "justify_content": null,
            "_view_module": "@jupyter-widgets/base",
            "overflow": null,
            "_model_module_version": "1.2.0",
            "_view_count": null,
            "flex_flow": null,
            "width": null,
            "min_width": null,
            "border": null,
            "align_items": null,
            "bottom": null,
            "_model_module": "@jupyter-widgets/base",
            "top": null,
            "grid_column": null,
            "overflow_y": null,
            "overflow_x": null,
            "grid_auto_flow": null,
            "grid_area": null,
            "grid_template_columns": null,
            "flex": null,
            "_model_name": "LayoutModel",
            "justify_items": null,
            "grid_row": null,
            "max_height": null,
            "align_content": null,
            "visibility": null,
            "align_self": null,
            "height": null,
            "min_height": null,
            "padding": null,
            "grid_auto_rows": null,
            "grid_gap": null,
            "max_width": null,
            "order": null,
            "_view_module_version": "1.2.0",
            "grid_template_areas": null,
            "object_position": null,
            "object_fit": null,
            "grid_auto_columns": null,
            "margin": null,
            "display": null,
            "left": null
          }
        },
        "8b4b761845d74ae4949eb48852431810": {
          "model_module": "@jupyter-widgets/controls",
          "model_name": "TabModel",
          "model_module_version": "1.5.0",
          "state": {
            "_view_name": "TabView",
            "_dom_classes": [],
            "_titles": {
              "0": "Youtube",
              "1": "Bilibili"
            },
            "_model_name": "TabModel",
            "_view_module": "@jupyter-widgets/controls",
            "selected_index": 0,
            "_model_module_version": "1.5.0",
            "_view_count": null,
            "_view_module_version": "1.5.0",
            "box_style": "",
            "layout": "IPY_MODEL_0c7f665058ea4f8482eeb2b032d41a2b",
            "_model_module": "@jupyter-widgets/controls",
            "children": [
              "IPY_MODEL_6868561165dc4fc489735b1f9d41dd5f",
              "IPY_MODEL_112e0dc5d6724d4b989129c0d6c4f1c1"
            ]
          }
        },
        "0c7f665058ea4f8482eeb2b032d41a2b": {
          "model_module": "@jupyter-widgets/base",
          "model_name": "LayoutModel",
          "model_module_version": "1.2.0",
          "state": {
            "_view_name": "LayoutView",
            "grid_template_rows": null,
            "right": null,
            "justify_content": null,
            "_view_module": "@jupyter-widgets/base",
            "overflow": null,
            "_model_module_version": "1.2.0",
            "_view_count": null,
            "flex_flow": null,
            "width": null,
            "min_width": null,
            "border": null,
            "align_items": null,
            "bottom": null,
            "_model_module": "@jupyter-widgets/base",
            "top": null,
            "grid_column": null,
            "overflow_y": null,
            "overflow_x": null,
            "grid_auto_flow": null,
            "grid_area": null,
            "grid_template_columns": null,
            "flex": null,
            "_model_name": "LayoutModel",
            "justify_items": null,
            "grid_row": null,
            "max_height": null,
            "align_content": null,
            "visibility": null,
            "align_self": null,
            "height": null,
            "min_height": null,
            "padding": null,
            "grid_auto_rows": null,
            "grid_gap": null,
            "max_width": null,
            "order": null,
            "_view_module_version": "1.2.0",
            "grid_template_areas": null,
            "object_position": null,
            "object_fit": null,
            "grid_auto_columns": null,
            "margin": null,
            "display": null,
            "left": null
          }
        },
        "6868561165dc4fc489735b1f9d41dd5f": {
          "model_module": "@jupyter-widgets/output",
          "model_name": "OutputModel",
          "model_module_version": "1.0.0",
          "state": {
            "_view_name": "OutputView",
            "msg_id": "",
            "_dom_classes": [],
            "_model_name": "OutputModel",
            "outputs": [
              {
                "output_type": "stream",
                "metadata": {
                  "tags": []
                },
                "text": "Video available at https://youtube.com/watch?v=S2wKFY5iWUM\n",
                "stream": "stdout"
              },
              {
                "output_type": "display_data",
                "metadata": {
                  "tags": []
                },
                "text/html": "\n        <iframe\n            width=\"854\"\n            height=\"480\"\n            src=\"https://www.youtube.com/embed/S2wKFY5iWUM?fs=1&rel=0\"\n            frameborder=\"0\"\n            allowfullscreen\n        ></iframe>\n        ",
                "text/plain": "<IPython.lib.display.YouTubeVideo at 0x7fee06a28f10>",
                "image/jpeg": "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\n"
              }
            ],
            "_view_module": "@jupyter-widgets/output",
            "_model_module_version": "1.0.0",
            "_view_count": null,
            "_view_module_version": "1.0.0",
            "layout": "IPY_MODEL_e0e889dde37c480a83d43e3951c7ccb4",
            "_model_module": "@jupyter-widgets/output"
          }
        },
        "112e0dc5d6724d4b989129c0d6c4f1c1": {
          "model_module": "@jupyter-widgets/output",
          "model_name": "OutputModel",
          "model_module_version": "1.0.0",
          "state": {
            "_view_name": "OutputView",
            "msg_id": "",
            "_dom_classes": [],
            "_model_name": "OutputModel",
            "outputs": [
              {
                "output_type": "stream",
                "metadata": {
                  "tags": []
                },
                "text": "Video available at https://www.bilibili.com/video/BV1bo4y1C7JL\n",
                "stream": "stdout"
              },
              {
                "output_type": "display_data",
                "metadata": {
                  "tags": []
                },
                "text/html": "\n        <iframe\n            width=\"854\"\n            height=\"480\"\n            src=\"https://player.bilibili.com/player.html?bvid=BV1bo4y1C7JL&page=1?fs=1\"\n            frameborder=\"0\"\n            allowfullscreen\n        ></iframe>\n        ",
                "text/plain": "<__main__.BiliVideo at 0x7fee06a28e10>"
              }
            ],
            "_view_module": "@jupyter-widgets/output",
            "_model_module_version": "1.0.0",
            "_view_count": null,
            "_view_module_version": "1.0.0",
            "layout": "IPY_MODEL_e976fd1d8cd34ea1ad32a21b0bffd95f",
            "_model_module": "@jupyter-widgets/output"
          }
        },
        "e0e889dde37c480a83d43e3951c7ccb4": {
          "model_module": "@jupyter-widgets/base",
          "model_name": "LayoutModel",
          "model_module_version": "1.2.0",
          "state": {
            "_view_name": "LayoutView",
            "grid_template_rows": null,
            "right": null,
            "justify_content": null,
            "_view_module": "@jupyter-widgets/base",
            "overflow": null,
            "_model_module_version": "1.2.0",
            "_view_count": null,
            "flex_flow": null,
            "width": null,
            "min_width": null,
            "border": null,
            "align_items": null,
            "bottom": null,
            "_model_module": "@jupyter-widgets/base",
            "top": null,
            "grid_column": null,
            "overflow_y": null,
            "overflow_x": null,
            "grid_auto_flow": null,
            "grid_area": null,
            "grid_template_columns": null,
            "flex": null,
            "_model_name": "LayoutModel",
            "justify_items": null,
            "grid_row": null,
            "max_height": null,
            "align_content": null,
            "visibility": null,
            "align_self": null,
            "height": null,
            "min_height": null,
            "padding": null,
            "grid_auto_rows": null,
            "grid_gap": null,
            "max_width": null,
            "order": null,
            "_view_module_version": "1.2.0",
            "grid_template_areas": null,
            "object_position": null,
            "object_fit": null,
            "grid_auto_columns": null,
            "margin": null,
            "display": null,
            "left": null
          }
        },
        "e976fd1d8cd34ea1ad32a21b0bffd95f": {
          "model_module": "@jupyter-widgets/base",
          "model_name": "LayoutModel",
          "model_module_version": "1.2.0",
          "state": {
            "_view_name": "LayoutView",
            "grid_template_rows": null,
            "right": null,
            "justify_content": null,
            "_view_module": "@jupyter-widgets/base",
            "overflow": null,
            "_model_module_version": "1.2.0",
            "_view_count": null,
            "flex_flow": null,
            "width": null,
            "min_width": null,
            "border": null,
            "align_items": null,
            "bottom": null,
            "_model_module": "@jupyter-widgets/base",
            "top": null,
            "grid_column": null,
            "overflow_y": null,
            "overflow_x": null,
            "grid_auto_flow": null,
            "grid_area": null,
            "grid_template_columns": null,
            "flex": null,
            "_model_name": "LayoutModel",
            "justify_items": null,
            "grid_row": null,
            "max_height": null,
            "align_content": null,
            "visibility": null,
            "align_self": null,
            "height": null,
            "min_height": null,
            "padding": null,
            "grid_auto_rows": null,
            "grid_gap": null,
            "max_width": null,
            "order": null,
            "_view_module_version": "1.2.0",
            "grid_template_areas": null,
            "object_position": null,
            "object_fit": null,
            "grid_auto_columns": null,
            "margin": null,
            "display": null,
            "left": null
          }
        }
      }
    }
  },
  "cells": [
    {
      "cell_type": "markdown",
      "metadata": {
        "id": "view-in-github",
        "colab_type": "text"
      },
      "source": [
        "<a href=\"https://colab.research.google.com/github/ReganovaLisa/Neuromatch_solutions/blob/main/W0D3_Tutorial1.ipynb\" target=\"_parent\"><img src=\"https://colab.research.google.com/assets/colab-badge.svg\" alt=\"Open In Colab\"/></a>"
      ]
    },
    {
      "cell_type": "markdown",
      "metadata": {
        "id": "TYVYfCpyEf6L"
      },
      "source": [
        "# Tutorial 1: Vectors\n",
        "**Week 0, Day 3: Linear Algebra**\n",
        "\n",
        "**By Neuromatch Academy**\n",
        "\n",
        "\n",
        "__Content creator:__ Ella Batty\n",
        "\n",
        "__Content reviewers:__ Keith van Antwerp, Pooya Pakarian, Anoop Kulkarni\n",
        "\n",
        "__Production editors:__ Siddharth Suresh, Ella Batty  "
      ]
    },
    {
      "cell_type": "markdown",
      "metadata": {
        "id": "Vxa6FsRyEf6S"
      },
      "source": [
        "**Our 2021 Sponsors, including Presenting Sponsor Facebook Reality Labs**\n",
        "\n",
        "<p align='center'><img src='https://github.com/NeuromatchAcademy/widgets/blob/master/sponsors.png?raw=True'/></p>"
      ]
    },
    {
      "cell_type": "markdown",
      "metadata": {
        "id": "ZisNXTE5Ef6U"
      },
      "source": [
        "---\n",
        "# Tutorial Objectives\n",
        "*Estimated timing of tutorial: 1 hour, 25 minutes*\n",
        "\n",
        "During today, we will learn the basics of linear algebra, focusing on the topics that underlie the material on future days in the NMA Computational Neuroscience course. In this tutorial, we focus on vectors: their definition, their properties & operations, and how we can use them to define our coordinate system. \n",
        "\n",
        "By the end of this tutorial, you will:\n",
        "* Be able to provide an example of how linear algebra is used in computational neuroscience\n",
        "* Be able to describe vectors, their properties (dimensionality/length), and their operations (scalar multiplication, vector addition, dot product) geometrically \n",
        "* Be able to determine and explain the number of basis vectors necessary for a given vector space\n"
      ]
    },
    {
      "cell_type": "code",
      "metadata": {
        "cellView": "form",
        "execution": {
          "iopub.execute_input": "2021-06-30T11:19:44.718153Z",
          "iopub.status.busy": "2021-06-30T11:19:44.717526Z",
          "iopub.status.idle": "2021-06-30T11:19:44.853312Z",
          "shell.execute_reply": "2021-06-30T11:19:44.853861Z"
        },
        "id": "UYfcaDoFEf6X",
        "colab": {
          "base_uri": "https://localhost:8080/",
          "height": 597,
          "referenced_widgets": [
            "1e13e752e4564cfc8f00bdcbffed1872",
            "22c9c2d2cc44407dab60072b2f629b6d",
            "ed292812697346cc85ead5558e8e0f2e",
            "3fe449f2e5f84036b91fb65c75e38a46",
            "c7742d1ec3cd45d2acf8847e9b1b324e",
            "bf4e38bd16844f44b81cca7f82635be2"
          ]
        },
        "outputId": "11fb00d9-9e48-4a9b-9993-b93f11d74736"
      },
      "source": [
        "# @title Video 1: Why do we care about linear algebra?\n",
        "from ipywidgets import widgets\n",
        "\n",
        "out2 = widgets.Output()\n",
        "with out2:\n",
        "  from IPython.display import IFrame\n",
        "  class BiliVideo(IFrame):\n",
        "      def __init__(self, id, page=1, width=400, height=300, **kwargs):\n",
        "          self.id=id\n",
        "          src = 'https://player.bilibili.com/player.html?bvid={0}&page={1}'.format(id, page)\n",
        "          super(BiliVideo, self).__init__(src, width, height, **kwargs)\n",
        "\n",
        "  video = BiliVideo(id=\"BV1vf4y1b7mr\", width=854, height=480, fs=1)\n",
        "  print('Video available at https://www.bilibili.com/video/{0}'.format(video.id))\n",
        "  display(video)\n",
        "\n",
        "out1 = widgets.Output()\n",
        "with out1:\n",
        "  from IPython.display import YouTubeVideo\n",
        "  video = YouTubeVideo(id=\"qsK7pHrJU5M\", width=854, height=480, fs=1, rel=0)\n",
        "  print('Video available at https://youtube.com/watch?v=' + video.id)\n",
        "  display(video)\n",
        "\n",
        "out = widgets.Tab([out1, out2])\n",
        "out.set_title(0, 'Youtube')\n",
        "out.set_title(1, 'Bilibili')\n",
        "\n",
        "display(out)"
      ],
      "execution_count": null,
      "outputs": [
        {
          "output_type": "display_data",
          "data": {
            "application/vnd.jupyter.widget-view+json": {
              "model_id": "1e13e752e4564cfc8f00bdcbffed1872",
              "version_minor": 0,
              "version_major": 2
            },
            "text/plain": [
              "Tab(children=(Output(), Output()), _titles={'0': 'Youtube', '1': 'Bilibili'})"
            ]
          },
          "metadata": {
            "tags": []
          }
        }
      ]
    },
    {
      "cell_type": "markdown",
      "metadata": {
        "id": "GcxYkZ6cEf6b"
      },
      "source": [
        "---\n",
        "# Setup\n",
        "\n",
        "Execute the following cells to set up the notebook environment"
      ]
    },
    {
      "cell_type": "code",
      "metadata": {
        "execution": {
          "iopub.execute_input": "2021-06-30T11:19:44.864896Z",
          "iopub.status.busy": "2021-06-30T11:19:44.864365Z",
          "iopub.status.idle": "2021-06-30T11:19:47.255782Z",
          "shell.execute_reply": "2021-06-30T11:19:47.256194Z"
        },
        "id": "NBZoeAx3Ef6c"
      },
      "source": [
        "# Imports\n",
        "\n",
        "import numpy as np\n",
        "import matplotlib.pyplot as plt"
      ],
      "execution_count": null,
      "outputs": []
    },
    {
      "cell_type": "code",
      "metadata": {
        "cellView": "form",
        "execution": {
          "iopub.execute_input": "2021-06-30T11:19:47.267802Z",
          "iopub.status.busy": "2021-06-30T11:19:47.263561Z",
          "iopub.status.idle": "2021-06-30T11:19:47.300368Z",
          "shell.execute_reply": "2021-06-30T11:19:47.299841Z"
        },
        "id": "YDFVXerZEf6e"
      },
      "source": [
        "#@title Figure settings\n",
        "import ipywidgets as widgets       # interactive display\n",
        "from ipywidgets import fixed\n",
        "%config InlineBackend.figure_format = 'retina'\n",
        "plt.style.use(\"https://raw.githubusercontent.com/NeuromatchAcademy/course-content/master/nma.mplstyle\")"
      ],
      "execution_count": null,
      "outputs": []
    },
    {
      "cell_type": "code",
      "metadata": {
        "cellView": "form",
        "execution": {
          "iopub.execute_input": "2021-06-30T11:19:47.312274Z",
          "iopub.status.busy": "2021-06-30T11:19:47.308404Z",
          "iopub.status.idle": "2021-06-30T11:19:47.314831Z",
          "shell.execute_reply": "2021-06-30T11:19:47.315265Z"
        },
        "id": "BOwLrGNsEf6h"
      },
      "source": [
        "# @title Plotting functions\n",
        "def visualize_vectors(v, v_unit):\n",
        "  \"\"\" Plots a 2D vector and the corresponding unit vector\n",
        "\n",
        "  Args:\n",
        "    v (ndarray): array of size (2,) with the vector coordinates\n",
        "    v_unit (ndarray): array of size (2, ) with the unit vector coordinates\n",
        "\n",
        "  \"\"\"\n",
        "  fig, ax = plt.subplots()\n",
        "\n",
        "  # Set up plot aesthetics\n",
        "  ax.spines['top'].set_color('none')\n",
        "  ax.spines['bottom'].set_position('zero')\n",
        "  ax.spines['left'].set_position('zero')\n",
        "  ax.spines['right'].set_color('none')\n",
        "  ax.set(xlim = [-6, 6], ylim = [-6, 6])\n",
        "  ax.grid(True, alpha=.4, linewidth=1, zorder=0)\n",
        "\n",
        "  # Plot vectors\n",
        "  v_arr = ax.arrow(0, 0, v[0], v[1], width=0.08, color='#648FFF', length_includes_head = True, zorder = 2);\n",
        "  v_unit_arr = ax.arrow(0, 0, v_unit[0], v_unit[1], width=0.08, color='#DC267F', length_includes_head = True, zorder = 3);\n",
        "  ax.set(xlim = [-4, 4], ylim = [-4, 4]);\n",
        "\n",
        "  # Add legend\n",
        "  leg = ax.legend([v_arr, v_unit_arr], [r\"Vector $\\mathbf{v}$\", r\"Normalized vector $\\tilde{\\mathbf{v}}$\"], handlelength = 0, fontsize = 20, loc = 'upper left')\n",
        "  for handle, label in zip(leg.legendHandles, leg.texts):\n",
        "    label.set_color(handle.get_facecolor())\n",
        "    handle.set_visible(False)\n",
        "\n",
        "from matplotlib.patches import FancyArrowPatch\n",
        "from mpl_toolkits.mplot3d import proj3d\n",
        "\n",
        "class Arrow3D(FancyArrowPatch):\n",
        "    def __init__(self, xs, ys, zs, *args, **kwargs):\n",
        "        FancyArrowPatch.__init__(self, (0,0), (0,0), *args, **kwargs)\n",
        "        self._verts3d = xs, ys, zs\n",
        "\n",
        "    def draw(self, renderer):\n",
        "        xs3d, ys3d, zs3d = self._verts3d\n",
        "        xs, ys, zs = proj3d.proj_transform(xs3d, ys3d, zs3d, renderer.M)\n",
        "        self.set_positions((xs[0],ys[0]),(xs[1],ys[1]))\n",
        "        FancyArrowPatch.draw(self, renderer)"
      ],
      "execution_count": null,
      "outputs": []
    },
    {
      "cell_type": "markdown",
      "metadata": {
        "id": "mxUKTzH3Ef6k"
      },
      "source": [
        "---\n",
        "\n",
        "# Section 1: Intro to vectors"
      ]
    },
    {
      "cell_type": "markdown",
      "metadata": {
        "id": "tm-AS4loEf6p"
      },
      "source": [
        "## Section 1.1: What is a vector?\n",
        "\n"
      ]
    },
    {
      "cell_type": "code",
      "metadata": {
        "cellView": "form",
        "execution": {
          "iopub.execute_input": "2021-06-30T11:19:47.323819Z",
          "iopub.status.busy": "2021-06-30T11:19:47.317560Z",
          "iopub.status.idle": "2021-06-30T11:19:47.397696Z",
          "shell.execute_reply": "2021-06-30T11:19:47.397154Z"
        },
        "id": "NRdGLkOnEf6s",
        "colab": {
          "base_uri": "https://localhost:8080/",
          "height": 581,
          "referenced_widgets": [
            "a55d7fe702044f29a5ba3d11b28e271f",
            "39c28d25707340c69b8f1cb00188ac25",
            "b364714192464b4db690489fdf22d9be",
            "d43c370e65154137ac09fc00bd60cd6f",
            "d2c410eeb24d40ceb6a9704d18af6a0c",
            "a934c885144e4a029eb0193fa22a919e"
          ]
        },
        "outputId": "87a79b87-13c8-4070-b5db-0b0822fca77a"
      },
      "source": [
        "# @title Video 2: Vector Definition & Properties\n",
        "from ipywidgets import widgets\n",
        "\n",
        "out2 = widgets.Output()\n",
        "with out2:\n",
        "  from IPython.display import IFrame\n",
        "  class BiliVideo(IFrame):\n",
        "      def __init__(self, id, page=1, width=400, height=300, **kwargs):\n",
        "          self.id=id\n",
        "          src = 'https://player.bilibili.com/player.html?bvid={0}&page={1}'.format(id, page)\n",
        "          super(BiliVideo, self).__init__(src, width, height, **kwargs)\n",
        "\n",
        "  video = BiliVideo(id=\"BV1sX4y1P7wT\", width=854, height=480, fs=1)\n",
        "  print('Video available at https://www.bilibili.com/video/{0}'.format(video.id))\n",
        "  display(video)\n",
        "\n",
        "out1 = widgets.Output()\n",
        "with out1:\n",
        "  from IPython.display import YouTubeVideo\n",
        "  video = YouTubeVideo(id=\"Vi6L9fBk2Uc\", width=854, height=480, fs=1, rel=0)\n",
        "  print('Video available at https://youtube.com/watch?v=' + video.id)\n",
        "  display(video)\n",
        "\n",
        "out = widgets.Tab([out1, out2])\n",
        "out.set_title(0, 'Youtube')\n",
        "out.set_title(1, 'Bilibili')\n",
        "\n",
        "display(out)"
      ],
      "execution_count": null,
      "outputs": [
        {
          "output_type": "display_data",
          "data": {
            "application/vnd.jupyter.widget-view+json": {
              "model_id": "a55d7fe702044f29a5ba3d11b28e271f",
              "version_minor": 0,
              "version_major": 2
            },
            "text/plain": [
              "Tab(children=(Output(), Output()), _titles={'0': 'Youtube', '1': 'Bilibili'})"
            ]
          },
          "metadata": {
            "tags": []
          }
        }
      ]
    },
    {
      "cell_type": "markdown",
      "metadata": {
        "id": "ZApjWyilEf6u"
      },
      "source": [
        "This video covers the definition of vectors, the dimensionality and length of vectors, and zero/unit vectors.\n",
        "\n",
        "<details>\n",
        "<summary> <font color='blue'>Click here for text recap of video </font></summary>\n",
        "\n",
        "A vector $\\mathbf{x}$ can be considered from at least two perspectives: as an ordered list of numbers or as an arrow with the base at the origin of a coordinate system. These are two ways of looking at a single thing: in the arrow case, the tip of the arrow is defined by a coordinate (which can be represented by the ordered list). \n",
        "<br/><br/>\n",
        "\n",
        "The **dimensionality of a vector** is determined by the number of components in the ordered list (or the dimensionality of the space in which the arrow exists).  For example, $\\mathbf{x} = \\begin{bmatrix}\n",
        "4 \\\\\n",
        "2 \\\\\n",
        "1 \\\\ \n",
        "\\end{bmatrix}$ is a 3 dimensional vector. We can refer to components by $\\mathbf{x}_i$ where i indicates the position of the component. In this vector, $\\mathbf{x_1} = 4$, $\\mathbf{x_2} = 2$, and $\\mathbf{x_3} = 1$. \n",
        "\n",
        "<br/><br/>\n",
        "One defining property of a vector is its length: $||\\mathbf{x}||$. This is the length of the arrow and can be computed as the square root of the sum of all components squared: \n",
        "$$||\\mathbf{x}|| = \\sqrt{\\sum_{i=1}^N \\mathbf{x}_i^2} $$\n",
        "\n",
        "\n",
        "<br/><br/>\n",
        "We have two special types of vectors with specific names. **Zero vectors** have length 0 (and all components equal 0). **Unit vectors** have length 1. You can normalize a vector and create a unit vector, $\\tilde{\\mathbf{x}}$, by dividing by its length,$||\\mathbf{x}||$ :\n",
        "\n",
        "$$\\tilde{\\mathbf{x}} = \\frac{\\mathbf{x}}{||\\mathbf{x}||} $$\n",
        "\n",
        "\n"
      ]
    },
    {
      "cell_type": "markdown",
      "metadata": {
        "id": "hW8sAK4DEf6w"
      },
      "source": [
        "### Coding Exercise 1.1: Normalizing vectors\n",
        "\n",
        "In this exercise, you will first create the below vector, $\\mathbf{v}$, using a numpy array. You will then implement a function, `normalize_vector`, that outputs a normalized version of the input vector (by dividing each component by the vector length).  You will then visualize both the original vector and the unit vector. \n",
        "\n",
        "First think: how do you think the normalized unit vector will compare to the original vector in terms of direction and length?\n",
        "\n",
        "\n",
        "$$\\mathbf{v} = \\begin{bmatrix} 4 \\\\ 1 \\\\ \\end{bmatrix} $$\n"
      ]
    },
    {
      "cell_type": "code",
      "metadata": {
        "execution": {
          "iopub.execute_input": "2021-06-30T11:19:47.408146Z",
          "iopub.status.busy": "2021-06-30T11:19:47.406718Z",
          "iopub.status.idle": "2021-06-30T11:19:47.480864Z",
          "shell.execute_reply": "2021-06-30T11:19:47.479210Z"
        },
        "id": "kBgvu6XzEf6y",
        "colab": {
          "base_uri": "https://localhost:8080/",
          "height": 430
        },
        "outputId": "568bb5a9-87d1-46ce-dd44-6278e2f4e8f9"
      },
      "source": [
        "def normalize_vector(input_vector):\n",
        "  \"\"\" Normalizes a vector to length 1\n",
        "\n",
        "  Inputs:\n",
        "    input_vector (ndarray): array of shape (n_dim, ) where n_dim is the\n",
        "        dimensionality of the vector\n",
        "\n",
        "  Outputs:\n",
        "    (ndarray): normalized vector of length 1\n",
        "  \"\"\"\n",
        "\n",
        "  #################################################################################\n",
        "  ## TODO for students: complete normalize_vector function ##\n",
        "  # Fill out function and remove\n",
        "  #raise NotImplementedError(\"Student exercise: complete normalize_vector function\")\n",
        "  #################################################################################\n",
        "\n",
        "  # Compute vector length (use np.linalg.norm)\n",
        "  vector_length = np.linalg.norm(input_vector)\n",
        "\n",
        "  # Create normalized vector\n",
        "  normalized_vector = input_vector/vector_length\n",
        "\n",
        "  return normalized_vector\n",
        "\n",
        "# Create vector v from above (use np.array)\n",
        "v = np.array([3,4])\n",
        "\n",
        "# Call the function\n",
        "v_unit = normalize_vector(v)\n",
        "\n",
        "# Visualize the vectors\n",
        "visualize_vectors(v, v_unit)"
      ],
      "execution_count": null,
      "outputs": [
        {
          "output_type": "display_data",
          "data": {
            "image/png": "[encoded data removed]",
            "text/plain": [
              "<Figure size 576x432 with 1 Axes>"
            ]
          },
          "metadata": {
            "tags": [],
            "image/png": {
              "width": 558,
              "height": 413
            },
            "needs_background": "light"
          }
        }
      ]
    },
    {
      "cell_type": "markdown",
      "metadata": {
        "execution": {
          "iopub.execute_input": "2021-06-30T11:19:47.543213Z",
          "iopub.status.busy": "2021-06-30T11:19:47.519728Z",
          "iopub.status.idle": "2021-06-30T11:19:48.078817Z",
          "shell.execute_reply": "2021-06-30T11:19:48.079322Z"
        },
        "id": "DpucHnZtEf6z"
      },
      "source": [
        "[*Click for solution*](https://github.com/NeuromatchAcademy/course-content/tree/master//tutorials/W0D3_LinearAlgebra/solutions/W0D3_Tutorial1_Solution_121dde78.py)\n",
        "\n",
        "*Example output:*\n",
        "\n",
        "<img alt='Solution hint' align='left' width=557 height=414 src=https://raw.githubusercontent.com/NeuromatchAcademy/course-content/master/tutorials/W0D3_LinearAlgebra/static/W0D3_Tutorial1_Solution_121dde78_0.png>\n",
        "\n"
      ]
    },
    {
      "cell_type": "markdown",
      "metadata": {
        "id": "3Wq4depjEf60"
      },
      "source": [
        "\n",
        "\n",
        "Note that the unit vector still points in the same direction as the original (it overlays it). Dividing each component by a constant (the length) does not change the direction. The only change is the length - the normalized vector has a length of 1. "
      ]
    },
    {
      "cell_type": "markdown",
      "metadata": {
        "id": "pCvHCFxDEf60"
      },
      "source": [
        "## Section 1.2: Vector operations\n",
        "\n",
        "*Estimated timing to here from start of tutorial: 20 min*"
      ]
    },
    {
      "cell_type": "code",
      "metadata": {
        "cellView": "form",
        "execution": {
          "iopub.execute_input": "2021-06-30T11:19:48.087263Z",
          "iopub.status.busy": "2021-06-30T11:19:48.086746Z",
          "iopub.status.idle": "2021-06-30T11:19:48.164954Z",
          "shell.execute_reply": "2021-06-30T11:19:48.162389Z"
        },
        "id": "pKh-Kj1_Ef61",
        "colab": {
          "base_uri": "https://localhost:8080/",
          "height": 581,
          "referenced_widgets": [
            "9420123f541347469d6ba2fb6ade6b25",
            "de2e55aa8e134aae9c5207f34d59ada4",
            "cb210d0d66204f0d9d4375686ab97455",
            "2d7d120d0053415eb8c5336a3c52b9c0",
            "5d838eea8cfa49279417427d6c39c0cf",
            "fbdbe62805404871a06a6bf4b6e04463"
          ]
        },
        "outputId": "4ac3fab9-bf1a-434d-b485-e54fbccba99e"
      },
      "source": [
        "# @title Video 3: Linear Combinations of Vectors\n",
        "from ipywidgets import widgets\n",
        "\n",
        "out2 = widgets.Output()\n",
        "with out2:\n",
        "  from IPython.display import IFrame\n",
        "  class BiliVideo(IFrame):\n",
        "      def __init__(self, id, page=1, width=400, height=300, **kwargs):\n",
        "          self.id=id\n",
        "          src = 'https://player.bilibili.com/player.html?bvid={0}&page={1}'.format(id, page)\n",
        "          super(BiliVideo, self).__init__(src, width, height, **kwargs)\n",
        "\n",
        "  video = BiliVideo(id=\"BV1rL411p7iR\", width=854, height=480, fs=1)\n",
        "  print('Video available at https://www.bilibili.com/video/{0}'.format(video.id))\n",
        "  display(video)\n",
        "\n",
        "out1 = widgets.Output()\n",
        "with out1:\n",
        "  from IPython.display import YouTubeVideo\n",
        "  video = YouTubeVideo(id=\"e8Y6kNICH-8\", width=854, height=480, fs=1, rel=0)\n",
        "  print('Video available at https://youtube.com/watch?v=' + video.id)\n",
        "  display(video)\n",
        "\n",
        "out = widgets.Tab([out1, out2])\n",
        "out.set_title(0, 'Youtube')\n",
        "out.set_title(1, 'Bilibili')\n",
        "\n",
        "display(out)"
      ],
      "execution_count": null,
      "outputs": [
        {
          "output_type": "display_data",
          "data": {
            "application/vnd.jupyter.widget-view+json": {
              "model_id": "9420123f541347469d6ba2fb6ade6b25",
              "version_minor": 0,
              "version_major": 2
            },
            "text/plain": [
              "Tab(children=(Output(), Output()), _titles={'0': 'Youtube', '1': 'Bilibili'})"
            ]
          },
          "metadata": {
            "tags": []
          }
        }
      ]
    },
    {
      "cell_type": "markdown",
      "metadata": {
        "id": "Pzrx2G9tEf62"
      },
      "source": [
        "This video covers vector operations: scalar multiplication, vector addition, and linear combinations.\n",
        "\n",
        "<details>\n",
        "<summary> <font color='blue'>Click here for text recap of video </font></summary>\n",
        "\n",
        "We have several mathematical operations we perform on or with vectors. **Scalar multiplication** of a vector changes its length but not its direction (except for sometimes reversing by 180 degrees as we'll see in the next demo). When we multiply a vector, $\\mathbf{x}$,  by a scalar, $a$, we multiply each individual component by the scalar:\n",
        "\n",
        "$$ a\\mathbf{x} = \\begin{bmatrix}\n",
        "    a\\mathbf{x}_1 \\\\ a\\mathbf{x}_2 \\\\ \\vdots \\\\ a\\mathbf{x}_N\n",
        "\\end{bmatrix}$$\n",
        "\n",
        "You can visualize **vector addition** as the stacking of the two arrows head to tail. In essence, you are moving the second vector so its base is at the tip of the first, without changing its direction. The tip of this stacked second vector is the new added vector's tip. In order words, if you visualize two vectors as sides of a parallelogram, adding them will create a vector with the 4th vertex of that parallelogram as its tip. Numerically, this means that we add the corresponding components of each vector:\n",
        "\n",
        "\n",
        " $$\\mathbf{x} + \\mathbf{y} = \\begin{bmatrix}\n",
        "           \\mathbf{x}_{1} + \\mathbf{y}_1 \\\\ \\mathbf{x}_{2} + \\mathbf{y}_2\\\\ \\vdots \\\\ \\mathbf{x}_{N} + \\mathbf{y}_N \n",
        "\\end{bmatrix}$$\n",
        "\n",
        "\n",
        "We call a group of 2 or more vectors a **set of vectors**. A **linear combination** of a set of vectors is a combination of the set using scalar multiplication and vector addition. Essentially, we are multiplying each vector in the set by a scalar and then adding all the scalar multiplied vectors together: the output of this (another vector) is a linear combination of the set. More formally defined, a vector, $\\mathbf{u}$, is a linear combination of a set of vectors $\\mathbf{v}^1, \\mathbf{v}^2, ..., \\mathbf{v}^N$ with (scalar) weights $c_1, c_2, ...c_N$ if:\n",
        "\n",
        "$$\\mathbf{u} = c_1\\mathbf{v}^1 + c_2\\mathbf{v}^2 + ... + c_n\\mathbf{v}^N $$.\n",
        "</details>\n"
      ]
    },
    {
      "cell_type": "markdown",
      "metadata": {
        "id": "mnpP_1yaEf64"
      },
      "source": [
        "### Interactive Demo: Linear combination of vectors\n",
        "In the following demo, we will demonstrate a linear combination of two vectors, $\\mathbf{x}$ and $\\mathbf{y}$. \n",
        "\n",
        "$$\\mathbf{z} = a\\mathbf{x} + b\\mathbf{y}$$\n",
        "\n",
        "where $\\mathbf{x} = \\begin{bmatrix}3 \\\\ 1 \\\\\\end{bmatrix}$ and $\\mathbf{y} = \\begin{bmatrix}-1 \\\\ 2 \\\\\\end{bmatrix}$.\n",
        "\n",
        "\n",
        "You will play with the scalar multiples $a$ and $b$ to visualize both scalar multiplication and vector addition. Think and talk through the following questions:\n",
        "\n",
        "\n",
        "1.   How does $a\\mathbf{x}$ compare to $\\mathbf{x}$ when $a$ is negative? \n",
        "2.   How does $a\\mathbf{x}$ compare to $\\mathbf{x}$ when $a$ is a fraction?\n",
        "3.  Can you get $\\mathbf{z}$ to point to anywhere in the 2D space with combinations of $a$ and $b$?\n",
        "4.  Would this be the case no matter what $\\mathbf{x}$ and $\\mathbf{y}$ are, as long as they are both 2D vectors?\n"
      ]
    },
    {
      "cell_type": "code",
      "metadata": {
        "execution": {
          "iopub.execute_input": "2021-06-30T11:19:48.182247Z",
          "iopub.status.busy": "2021-06-30T11:19:48.176907Z",
          "iopub.status.idle": "2021-06-30T11:19:48.606394Z",
          "shell.execute_reply": "2021-06-30T11:19:48.607059Z"
        },
        "id": "M9E0tcITEf65",
        "colab": {
          "base_uri": "https://localhost:8080/",
          "height": 566,
          "referenced_widgets": [
            "de06abe91481454b8db369f2e54aa346",
            "6556b063d3d448de97c81042224f062d",
            "d2d31bb5b87b4349b97483795318be1f",
            "8fd0aa588b8e4c30aaa340f7ee7403d2",
            "838efba13e9d435e8f6e559cf0d5b1ed",
            "f4bf654602f04118a187c06019cf2e9c",
            "66114cbcd0d34c48907b8fd67cf959cf",
            "d4294fdfa7fa407596349b7c4c186fd1",
            "b91f16a086a64dd19bf2ae2182376452",
            "5ee8605db4b74c4aa20cb7158d04c98e"
          ]
        },
        "outputId": "c6d9baaa-a8c8-4da5-cf72-fca1b2b39db3"
      },
      "source": [
        " #@markdown Make sure you execute this cell to enable the widget! Move the sliders for “a” and “b”. After releasing the slider, be patient for a couple of seconds to see the desired change.\n",
        "\n",
        "\n",
        "def plot_arrows(x, y, a_times_x, b_times_y):\n",
        "  fig, ax = plt.subplots(figsize=(10, 7))\n",
        "\n",
        "  ax.spines['top'].set_color('none')\n",
        "  ax.spines['bottom'].set_position('zero')\n",
        "  ax.spines['left'].set_position('zero')\n",
        "  ax.spines['right'].set_color('none')\n",
        "\n",
        "  ax.set_aspect('equal', adjustable='box')\n",
        "  ax.set(xlim = [-10, 10], ylim = [-10, 10], xticks = np.arange(-10, 10), yticks = np.arange(-10, 10), xticklabels = [], yticklabels = [])\n",
        "\n",
        "  ax.grid(alpha=.4)\n",
        "\n",
        "  z = a_times_x + b_times_y\n",
        "  z_arr = ax.arrow(0, 0, z[0], z[1], width=.08, color='k', length_includes_head = True);\n",
        "\n",
        "  x_orig, = ax.plot([0, x[0]], [0, x[1]], '--', color='#648FFF')\n",
        "  y_orig, = ax.plot([0, y[0]], [0, y[1]], '--',  color='#DC267F')\n",
        "\n",
        "  ax_arr = ax.arrow(0, 0, a_times_x[0], a_times_x[1], width=.08, color='#648FFF', length_includes_head = True);\n",
        "  by_arr = ax.arrow(0, 0, b_times_y[0], b_times_y[1], width=.08, color='#DC267F', length_includes_head = True);\n",
        "\n",
        "  ax.plot([a_times_x[0], z[0]], [a_times_x[1], z[1]], '--k')\n",
        "  ax.plot([b_times_y[0], z[0]], [b_times_y[1], z[1]], '--k')\n",
        "\n",
        "\n",
        "  leg = ax.legend([x_orig, y_orig, ax_arr, by_arr, z_arr], [r\"$\\mathbf{x}$\", r\"$\\mathbf{y}$\", r\"$a\\mathbf{x}$\", r\"$b\\mathbf{y}$\", r\"$\\mathbf{z} = a\\mathbf{x} + b\\mathbf{y}$\"], handlelength = 2, fontsize = 25, loc = 'center left', bbox_to_anchor=(1.05, .5))\n",
        "  for handle, label in zip(leg.legendHandles, leg.texts):\n",
        "      try:\n",
        "          label.set_color(handle.get_facecolor())\n",
        "      except:\n",
        "          label.set_color(handle.get_color())\n",
        "      #handle.set_visible(False)\n",
        "\n",
        "@widgets.interact(a = widgets.FloatSlider(value=1.0, min=-2, max=2, step=0.1), b = widgets.FloatSlider(value=1.0, min=-2, max=2, step=0.1))\n",
        "def plot_linear_combination(a, b):\n",
        "  x = np.array([3, 1])\n",
        "  y = np.array([-1, 2])\n",
        "\n",
        "  plot_arrows(x, y, a*x, b*y)"
      ],
      "execution_count": null,
      "outputs": [
        {
          "output_type": "display_data",
          "data": {
            "application/vnd.jupyter.widget-view+json": {
              "model_id": "de06abe91481454b8db369f2e54aa346",
              "version_minor": 0,
              "version_major": 2
            },
            "text/plain": [
              "interactive(children=(FloatSlider(value=1.0, description='a', max=2.0, min=-2.0), FloatSlider(value=1.0, descr…"
            ]
          },
          "metadata": {
            "tags": []
          }
        }
      ]
    },
    {
      "cell_type": "markdown",
      "metadata": {
        "execution": {
          "iopub.execute_input": "2021-06-30T11:19:48.610823Z",
          "iopub.status.busy": "2021-06-30T11:19:48.610260Z",
          "iopub.status.idle": "2021-06-30T11:19:48.614572Z",
          "shell.execute_reply": "2021-06-30T11:19:48.613818Z"
        },
        "id": "104t1DIsEf66"
      },
      "source": [
        "[*Click for solution*](https://github.com/NeuromatchAcademy/course-content/tree/master//tutorials/W0D3_LinearAlgebra/solutions/W0D3_Tutorial1_Solution_5ec18248.py)\n",
        "\n"
      ]
    },
    {
      "cell_type": "markdown",
      "metadata": {
        "id": "FcqoVTYLEf68"
      },
      "source": [
        "---\n",
        "# Section 2: Defining space through vectors"
      ]
    },
    {
      "cell_type": "markdown",
      "metadata": {
        "id": "ISsk1uqfEf68"
      },
      "source": [
        "## Section 2.1: Span & Linear Independence\n",
        "\n",
        "*Estimated timing to here from start of tutorial: 35 min*"
      ]
    },
    {
      "cell_type": "code",
      "metadata": {
        "cellView": "form",
        "execution": {
          "iopub.execute_input": "2021-06-30T11:19:48.625209Z",
          "iopub.status.busy": "2021-06-30T11:19:48.624694Z",
          "iopub.status.idle": "2021-06-30T11:19:48.695431Z",
          "shell.execute_reply": "2021-06-30T11:19:48.694402Z"
        },
        "id": "VnfhQI95Ef69",
        "colab": {
          "base_uri": "https://localhost:8080/",
          "height": 581,
          "referenced_widgets": [
            "c7f2492a002e410d948c1e84cbf91769",
            "f9bcb8d524d24873a27473e85a2dc418",
            "af69b3d07b85429986dab35e1aad06d4",
            "993f87152bbd491a8c87a0ec7611209c",
            "6feec9691a454fef978d5bad4c1ddf33",
            "37d309cb4eac4a74a90b644c213e0e34"
          ]
        },
        "outputId": "6d3773d5-8fec-4337-f054-463bd42d9e48"
      },
      "source": [
        "# @title Video 4: Span and Linear Independence\n",
        "from ipywidgets import widgets\n",
        "\n",
        "out2 = widgets.Output()\n",
        "with out2:\n",
        "  from IPython.display import IFrame\n",
        "  class BiliVideo(IFrame):\n",
        "      def __init__(self, id, page=1, width=400, height=300, **kwargs):\n",
        "          self.id=id\n",
        "          src = 'https://player.bilibili.com/player.html?bvid={0}&page={1}'.format(id, page)\n",
        "          super(BiliVideo, self).__init__(src, width, height, **kwargs)\n",
        "\n",
        "  video = BiliVideo(id=\"BV1iv411H7bK\", width=854, height=480, fs=1)\n",
        "  print('Video available at https://www.bilibili.com/video/{0}'.format(video.id))\n",
        "  display(video)\n",
        "\n",
        "out1 = widgets.Output()\n",
        "with out1:\n",
        "  from IPython.display import YouTubeVideo\n",
        "  video = YouTubeVideo(id=\"g7DoHnZkUlw\", width=854, height=480, fs=1, rel=0)\n",
        "  print('Video available at https://youtube.com/watch?v=' + video.id)\n",
        "  display(video)\n",
        "\n",
        "out = widgets.Tab([out1, out2])\n",
        "out.set_title(0, 'Youtube')\n",
        "out.set_title(1, 'Bilibili')\n",
        "\n",
        "display(out)"
      ],
      "execution_count": null,
      "outputs": [
        {
          "output_type": "display_data",
          "data": {
            "application/vnd.jupyter.widget-view+json": {
              "model_id": "c7f2492a002e410d948c1e84cbf91769",
              "version_minor": 0,
              "version_major": 2
            },
            "text/plain": [
              "Tab(children=(Output(), Output()), _titles={'0': 'Youtube', '1': 'Bilibili'})"
            ]
          },
          "metadata": {
            "tags": []
          }
        }
      ]
    },
    {
      "cell_type": "markdown",
      "metadata": {
        "id": "LNZ1hitrEf69"
      },
      "source": [
        "This video covers the span of a set of vectors and when a set of vectors is linearly independent.\n",
        "\n",
        "<details>\n",
        "<summary> <font color='blue'>Click here for text recap of video </font></summary>\n",
        "\n",
        "The **span of a set of vectors** is the set of all possible linear combinations of those vectors. In the last demo, you saw that the vector $\\mathbf{x}$ and the vector $\\mathbf{y}$ spanned 2D space (${\\rm I\\!R}^2$). This means you can get to any point in 2D space (corresponding to vector $\\mathbf{v}$ with some combination of $a$ and $b$, the scalar multiples in a linear combination of $\\mathbf{x}$ and $\\mathbf{y}$:\n",
        "\n",
        "$$\\mathbf{v} = a\\mathbf{x} + b\\mathbf{y}$$\n",
        "\n",
        "Even more specifically, in this situation, each point in 2D space is identified by a unique and single combination of $a$ and $b$: if you know the point, you know what $a$ and $b$ are. \n",
        "\n",
        "A set of vectors is linearly dependent if one can be written as a linear combination of the others. If this is not the case, the set of vectors is linearly independent.\n",
        "</details>"
      ]
    },
    {
      "cell_type": "markdown",
      "metadata": {
        "id": "NvOHAlv5Ef6-"
      },
      "source": [
        "### Think! 2.1: Determing dependence\n",
        "\n",
        "Let's say we have four vectors: \n",
        "\n",
        "$$ \\mathbf{a} = \\begin{bmatrix}\n",
        "    4 \\\\ 2 \\\\ 0\n",
        "\\end{bmatrix},  \\mathbf{b} = \\begin{bmatrix}\n",
        "    1 \\\\ 0 \\\\ 3, \n",
        "\\end{bmatrix}, \\mathbf{c} = \\begin{bmatrix}\n",
        "    5 \\\\ 2 \\\\ 3\n",
        "\\end{bmatrix}, \\mathbf{d} = \\begin{bmatrix}\n",
        "    3 \\\\ 3 \\\\ 2\n",
        "\\end{bmatrix}$$\n",
        "\n",
        "1. Are these vectors linearly independent or dependent? Why?\n",
        "2. What is the span of the set of vectors $\\{\\mathbf{a}, \\mathbf{b}, \\mathbf{c}, \\mathbf{d}\\}$? \n",
        "3. What is the span of the set of vectors $\\{\\mathbf{a}, \\mathbf{b}, \\mathbf{c}\\}$? \n",
        "4. What is the span of a set just consisting of vector $\\{\\mathbf{a}$} (in general terms)?\n",
        "5. What is the span of the set of vectors $\\{\\mathbf{a}, \\mathbf{b}$} (in general terms)?"
      ]
    },
    {
      "cell_type": "code",
      "metadata": {
        "cellView": "form",
        "execution": {
          "iopub.execute_input": "2021-06-30T11:19:48.735864Z",
          "iopub.status.busy": "2021-06-30T11:19:48.709776Z",
          "iopub.status.idle": "2021-06-30T11:19:48.977653Z",
          "shell.execute_reply": "2021-06-30T11:19:48.978342Z"
        },
        "id": "rW3RJ7gsEf6-"
      },
      "source": [
        "# @markdown Execute this cell to visualize vectors\n",
        "\n",
        "fig = plt.figure()\n",
        "ax = fig.add_subplot(111, projection='3d')\n",
        "a = Arrow3D([0, 4], [0, 2],\n",
        "                [0, 0], mutation_scale=20,\n",
        "                lw=3, arrowstyle=\"-|>\", color=\"#648FFF\")\n",
        "\n",
        "ax.add_artist(a)\n",
        "b = Arrow3D([0, 1], [0, 0],\n",
        "                [0, 3], mutation_scale=20,\n",
        "                lw=3, arrowstyle=\"-|>\", color=\"#785EF0\")\n",
        "\n",
        "ax.add_artist(b)\n",
        "c = Arrow3D([0, 5], [0, 2],\n",
        "                [0, 3], mutation_scale=20,\n",
        "                lw=3, arrowstyle=\"-|>\", color=\"#DC267F\")\n",
        "\n",
        "ax.add_artist(c)\n",
        "d = Arrow3D([0, 3], [0, 3],\n",
        "                [0, 2], mutation_scale=20,\n",
        "                lw=3, arrowstyle=\"-|>\", color=\"#FFB000\")\n",
        "\n",
        "ax.add_artist(d)\n",
        "\n",
        "leg = ax.legend([a, b, c, d], ['a', 'b', 'c', 'd'], handlelength = 0, fontsize = 20, loc = 'upper left')\n",
        "for handle, label in zip(leg.legendHandles, leg.texts):\n",
        "  label.set_color(handle.get_facecolor())\n",
        "  handle.set_visible(False)\n",
        "ax.set(xlim = [0, 5], ylim = [5, 0], zlim = [0, 5]); #, xlabel = 'Neuron 1 Firing Rate',  ylabel = 'Neuron 2 Firing Rate', zlabel = 'Neuron 3 Firing Rate');"
      ],
      "execution_count": null,
      "outputs": []
    },
    {
      "cell_type": "markdown",
      "metadata": {
        "id": "QgK2RMicEf6_"
      },
      "source": [
        "Check out this visualization prepared by Oğul Can Yurdakul to better see the vectors: https://www.geogebra.org/3d/hherq78z!"
      ]
    },
    {
      "cell_type": "markdown",
      "metadata": {
        "execution": {
          "iopub.execute_input": "2021-06-30T11:19:48.982617Z",
          "iopub.status.busy": "2021-06-30T11:19:48.982054Z",
          "iopub.status.idle": "2021-06-30T11:19:48.985308Z",
          "shell.execute_reply": "2021-06-30T11:19:48.985738Z"
        },
        "id": "Yed26ojFEf6_"
      },
      "source": [
        "[*Click for solution*](https://github.com/NeuromatchAcademy/course-content/tree/master//tutorials/W0D3_LinearAlgebra/solutions/W0D3_Tutorial1_Solution_556934c8.py)\n",
        "\n"
      ]
    },
    {
      "cell_type": "markdown",
      "metadata": {
        "id": "eoV9wKrmEf7A"
      },
      "source": [
        "## Section 2.2: Basis vectors\n",
        "\n",
        "*Estimated timing to here from start of tutorial: 50 min*\n"
      ]
    },
    {
      "cell_type": "code",
      "metadata": {
        "cellView": "form",
        "execution": {
          "iopub.execute_input": "2021-06-30T11:19:48.994428Z",
          "iopub.status.busy": "2021-06-30T11:19:48.988279Z",
          "iopub.status.idle": "2021-06-30T11:19:49.069556Z",
          "shell.execute_reply": "2021-06-30T11:19:49.070030Z"
        },
        "id": "DRaFef14Ef7A"
      },
      "source": [
        "# @title Video 5: Basis vectors\n",
        "from ipywidgets import widgets\n",
        "\n",
        "out2 = widgets.Output()\n",
        "with out2:\n",
        "  from IPython.display import IFrame\n",
        "  class BiliVideo(IFrame):\n",
        "      def __init__(self, id, page=1, width=400, height=300, **kwargs):\n",
        "          self.id=id\n",
        "          src = 'https://player.bilibili.com/player.html?bvid={0}&page={1}'.format(id, page)\n",
        "          super(BiliVideo, self).__init__(src, width, height, **kwargs)\n",
        "\n",
        "  video = BiliVideo(id=\"BV1Wh411h7qZ\", width=854, height=480, fs=1)\n",
        "  print('Video available at https://www.bilibili.com/video/{0}'.format(video.id))\n",
        "  display(video)\n",
        "\n",
        "out1 = widgets.Output()\n",
        "with out1:\n",
        "  from IPython.display import YouTubeVideo\n",
        "  video = YouTubeVideo(id=\"kgjwmHZH-So\", width=854, height=480, fs=1, rel=0)\n",
        "  print('Video available at https://youtube.com/watch?v=' + video.id)\n",
        "  display(video)\n",
        "\n",
        "out = widgets.Tab([out1, out2])\n",
        "out.set_title(0, 'Youtube')\n",
        "out.set_title(1, 'Bilibili')\n",
        "\n",
        "display(out)"
      ],
      "execution_count": null,
      "outputs": []
    },
    {
      "cell_type": "markdown",
      "metadata": {
        "id": "z_7MkgJnEf7B"
      },
      "source": [
        "This video covers what a basis is, the standard basis, and the properties of basis vectors.\n",
        "<details>\n",
        "<summary> <font color='blue'>Click here for text recap of video </font></summary>\n",
        "\n",
        "\n",
        "If a set of vectors spans 2D space are linearly independent, they form a **basis** for 2D space.  This means that we can identify all points in 2D space with reference to these two vectors, instead of to the traditional x-axis and y-axis coordinates. In fact, you've been using a basis all along when you identify points by their x-axis and y-axis coordinates: the **standard basis**! In 2D space, the standard basis vectors ($\\tilde{\\mathbf{e}}_1$ and $\\tilde{\\mathbf{e}}_2$) are the unit vectors corresponding to the x and y axes:\n",
        " \n",
        "$$\\tilde{\\mathbf{e}}_1 = \\begin{bmatrix} 1\\\\ 0\\\\ \\end{bmatrix} ,\\tilde{\\mathbf{e}}_2 = \\begin{bmatrix} 0\\\\ 1\\\\ \\end{bmatrix} $$\n",
        "\n",
        "When you refer to a point on a 2D plot as (4, 2), you are really identifying the scalar multiples to get to that point as a linear combination of the standard basis. The standard basis is convenient - and what we're used to - but it is essential for a variety of applications of linear algebra (including some we'll encounter in this course) to be able to switch our frame of reference to a different basis. In this example, we can now refer to points as (a, b) where a and b are the scalar multiples to get to that point as a linear combination of $\\mathbf{x}$ and $\\mathbf{y}$.\n",
        "\n",
        "Let's return to this idea of linear independence of vectors.  \n",
        "\n",
        "I've been referring to 2D space a lot but there are lots of **vector spaces** for which we can use basis vectors. We'll leave the formal definition of vector spaces to the bonus material as it's a little unwieldy but basically it's a set of vectors where all linear combinations of all vectors are included in the set. 1D space (${\\rm I\\!R}^1$), 2D space (${\\rm I\\!R}^2$), 3D space (${\\rm I\\!R}^3$), and so on are all vector spaces. These are not the only ones though: subsets of these vector spaces can also be vector spaces themselves. For example, a 1D line through a 2D plane is a vector space.  And we have even more unusual vector spaces - I give an example of one in the bonus material.\n",
        "\n",
        "</details>\n",
        "\n"
      ]
    },
    {
      "cell_type": "markdown",
      "metadata": {
        "id": "_2578o9rEf7B"
      },
      "source": [
        "### Think! 2.2: Figuring out a basis\n",
        "\n",
        "Let's say we are looking at the firing rates of 3 neurons. We can represent their activity in a 3D plot, as below. It turns out that due to their tightly-linked interactions, they always fire in such a way that the point in 3D space falls along a 2D plane (that passes through the origin). Basically, every single data point we record of the firing rates of the 3 neurons falls on that plane. This is represented by the blue plane in the figure below. This 2D plane is a subspace of all of 3-D space (R3).\n",
        "\n",
        "1) How many basis vectors would you need for the 2D plane? How many components would each basic vector have?\n",
        "\n",
        "2) How many numbers would you need to be able to fully describe the state of the 3 neuron population at a given time?\n",
        "\n"
      ]
    },
    {
      "cell_type": "code",
      "metadata": {
        "cellView": "form",
        "execution": {
          "iopub.execute_input": "2021-06-30T11:19:49.109245Z",
          "iopub.status.busy": "2021-06-30T11:19:49.091230Z",
          "iopub.status.idle": "2021-06-30T11:19:49.313268Z",
          "shell.execute_reply": "2021-06-30T11:19:49.312777Z"
        },
        "id": "p8s7jBn8Ef7C"
      },
      "source": [
        "# @markdown Execute this cell to see figure\n",
        "\n",
        "fig = plt.figure()\n",
        "\n",
        "# add axes\n",
        "ax = fig.add_subplot(111,projection='3d')\n",
        "\n",
        "xx, yy = np.meshgrid(range(-4, 4), range(-4, 4))\n",
        "z = .7*xx + -.2*yy\n",
        "\n",
        "# plot the plane\n",
        "ax.plot_surface(xx, yy, z, alpha=0.5)\n",
        "\n",
        "ax.set(xlim = [0, 5], ylim = [5, 0], zlim = [0, 5], xlabel = 'Neuron 1 Firing Rate',  ylabel = 'Neuron 2 Firing Rate', zlabel = 'Neuron 3 Firing Rate');\n",
        "#ax.invert_xaxis()"
      ],
      "execution_count": null,
      "outputs": []
    },
    {
      "cell_type": "markdown",
      "metadata": {
        "execution": {
          "iopub.execute_input": "2021-06-30T11:19:49.317393Z",
          "iopub.status.busy": "2021-06-30T11:19:49.316859Z",
          "iopub.status.idle": "2021-06-30T11:19:49.319324Z",
          "shell.execute_reply": "2021-06-30T11:19:49.318899Z"
        },
        "id": "HZGc99h2Ef7C"
      },
      "source": [
        "[*Click for solution*](https://github.com/NeuromatchAcademy/course-content/tree/master//tutorials/W0D3_LinearAlgebra/solutions/W0D3_Tutorial1_Solution_c3a2c8db.py)\n",
        "\n"
      ]
    },
    {
      "cell_type": "markdown",
      "metadata": {
        "id": "q89oZNIvEf7C"
      },
      "source": [
        "# Section 3: The dot product"
      ]
    },
    {
      "cell_type": "markdown",
      "metadata": {
        "id": "wuWLswh-Ef7D"
      },
      "source": [
        "## Section 3.1: Neural modeling using the dot product\n",
        "\n",
        "*Estimated timing to here from start of tutorial: 1 hr, 10 min*"
      ]
    },
    {
      "cell_type": "code",
      "metadata": {
        "cellView": "form",
        "execution": {
          "iopub.execute_input": "2021-06-30T11:19:49.327389Z",
          "iopub.status.busy": "2021-06-30T11:19:49.326680Z",
          "iopub.status.idle": "2021-06-30T11:19:49.400746Z",
          "shell.execute_reply": "2021-06-30T11:19:49.401170Z"
        },
        "id": "1J-NSVBwEf7D",
        "colab": {
          "base_uri": "https://localhost:8080/",
          "height": 581,
          "referenced_widgets": [
            "73ab6520e06042e38817c28a8679f9ce",
            "8e8601af635e42249ebe023ce2c1aa25",
            "3f54ab92861e4765ba367af3a7b4b373",
            "5f12f7604b7a4a048d0e5f14c7fd977a",
            "8fbb36f87ab94ebb8bbc22b7c047e36e",
            "08b13a9ceedc4848ac101d78d49f0568"
          ]
        },
        "outputId": "91e0ef44-82c3-47e6-df13-bd3a9843a0f2"
      },
      "source": [
        "# @title Video 6: The dot product\n",
        "from ipywidgets import widgets\n",
        "\n",
        "out2 = widgets.Output()\n",
        "with out2:\n",
        "  from IPython.display import IFrame\n",
        "  class BiliVideo(IFrame):\n",
        "      def __init__(self, id, page=1, width=400, height=300, **kwargs):\n",
        "          self.id=id\n",
        "          src = 'https://player.bilibili.com/player.html?bvid={0}&page={1}'.format(id, page)\n",
        "          super(BiliVideo, self).__init__(src, width, height, **kwargs)\n",
        "\n",
        "  video = BiliVideo(id=\"BV1Wh411h7KM\", width=854, height=480, fs=1)\n",
        "  print('Video available at https://www.bilibili.com/video/{0}'.format(video.id))\n",
        "  display(video)\n",
        "\n",
        "out1 = widgets.Output()\n",
        "with out1:\n",
        "  from IPython.display import YouTubeVideo\n",
        "  video = YouTubeVideo(id=\"Ene_TYyTdNM\", width=854, height=480, fs=1, rel=0)\n",
        "  print('Video available at https://youtube.com/watch?v=' + video.id)\n",
        "  display(video)\n",
        "\n",
        "out = widgets.Tab([out1, out2])\n",
        "out.set_title(0, 'Youtube')\n",
        "out.set_title(1, 'Bilibili')\n",
        "\n",
        "display(out)"
      ],
      "execution_count": null,
      "outputs": [
        {
          "output_type": "display_data",
          "data": {
            "application/vnd.jupyter.widget-view+json": {
              "model_id": "73ab6520e06042e38817c28a8679f9ce",
              "version_minor": 0,
              "version_major": 2
            },
            "text/plain": [
              "Tab(children=(Output(), Output()), _titles={'0': 'Youtube', '1': 'Bilibili'})"
            ]
          },
          "metadata": {
            "tags": []
          }
        }
      ]
    },
    {
      "cell_type": "markdown",
      "metadata": {
        "id": "OuZQLuT0Ef7E"
      },
      "source": [
        "This video covers the dot product by setting up a simple neural model of an LGN neuron where the activity is the dot product of a weights vector and a retinal firing rates vector.\n",
        "\n",
        "<details>\n",
        "<summary> <font color='blue'>Click here for text recap of video </font></summary>\n",
        "\n",
        "The dot product between two vectors is a scalar value computed as the sum of element-wise multiplication of vector components. \n",
        "$$\\text{Dot product of } \\mathbf{x} \\text{ and } \\mathbf{y} = \\mathbf{x} \\cdot \\mathbf{y} = \\sum_{i=1}^{N} \\mathbf{x}_i\\mathbf{y}_i $$\n",
        "\n",
        "If we have vector $\\mathbf{x} = \\begin{bmatrix}2\\\\ 3\\\\\\end{bmatrix}$ and $\\mathbf{y} = \\begin{bmatrix}1\\\\ 4\\\\\\end{bmatrix}$, then:\n",
        "$$\\mathbf{x} \\cdot \\mathbf{y} = 2*1 + 3*4 = 14$$.\n",
        "\n",
        " We will discuss more about what the dot product represents geometrically after the next demo.\n",
        "\n",
        "\n",
        "We are using the dot product to model neural firing. Specifically, we have multiple retinal neurons connected to a LGN neuron. The LGN neuron response is a weighted sum of the retinal firing rates (where the weights are the strengths of the synapses). We can capture this as the dot product between a vector of retinal firing rates and a vector of weights from each retinal neuron. \n",
        "\n",
        "</details>\n",
        "\n",
        "\n",
        "In code, we can compute the dot product between two vectors represented by numpy arrays using `np.dot`:\n",
        "\n",
        "\n",
        "```\n",
        "x = np.array([2, 3])\n",
        "y = np.array([1, 4])\n",
        "dot_prod = np.dot(x, y)\n",
        "```\n",
        "\n",
        "\n",
        "In the following demo, we have two retinal neurons with varying firing rates ($r_1$ and $r_2$). We will allow our firing rates to be negative in this example. We can represent our retinal firing rates with the vector $\\mathbf{r} = \\begin{bmatrix} r_1\\\\ r_2\\\\ \\end{bmatrix}$.\n",
        "\n",
        "We have weights from each of these to an LGN neuron: the weight of the connection from the first retinal neuron is 1 and the weight from the second is 2. See the circuit below. We can represent our weights with the vector $\\mathbf{w} = \\begin{bmatrix} 1\\\\ 2\\\\ \\end{bmatrix}$.\n",
        "\n",
        "The LGN firing rate is the dot product of the retinal firing rate vector and the weight vector:\n",
        "\n",
        "$$g = \\mathbf{w}\\cdot\\mathbf{r} = w_1r_1 + w_2r_2$$\n"
      ]
    },
    {
      "cell_type": "markdown",
      "metadata": {
        "id": "valMvasoEf7E"
      },
      "source": [
        "![Screen Shot 2021-06-29 at 7.52.23 AM.png](data:image/png;base64,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)"
      ]
    },
    {
      "cell_type": "markdown",
      "metadata": {
        "id": "E_y4GpslEf7M"
      },
      "source": [
        "### Interactive Demo 3.1: LGN firing\n",
        "\n",
        "\n",
        "In the following demo you will try various combinations of firing rates of the retinal neurons (thus moving the vector that corresponds to the firing rates).  When you move the retinal firing rates around, you will see the heatmap in that area appear, which shows the corresponding LGN neuron firing rate (for that combo of retina firing). Remember that this value is computed as the dot product between the retinal firing rate vector and the weight vector.\n",
        "\n",
        "Play with the following demo and then discuss these questions:\n",
        "\n",
        "\n",
        "1.   For a given length of the retinal firing rate vector, what direction maximally excites the LGN neuron (highest postsynaptic firing rate)? How does it relate to the weights vector?\n",
        "2.   For a given length of the retinal firing rate vector, what direction minimally excites the LGN neuron? \n",
        "3.   When does the LGN neuron have 0 firing rate? What is the relationship between the weights and retinal firing rate vector?\n",
        "4.   For a given direction, how does the LGN firing rate vary with length of the retinal firing rate vector?\n",
        "5.   Let's say the retinal neurons are tightly linked and the length of the retinal firing rate vector has to be 1. In other words, it has to be a unit vector. How would you find the retinal firing rates that maximally excite the LGN neuron?"
      ]
    },
    {
      "cell_type": "code",
      "metadata": {
        "cellView": "form",
        "execution": {
          "iopub.execute_input": "2021-06-30T11:19:49.426769Z",
          "iopub.status.busy": "2021-06-30T11:19:49.426215Z",
          "iopub.status.idle": "2021-06-30T11:19:49.842949Z",
          "shell.execute_reply": "2021-06-30T11:19:49.842511Z"
        },
        "id": "Q_mQsbhrEf7R",
        "colab": {
          "base_uri": "https://localhost:8080/",
          "height": 494,
          "referenced_widgets": [
            "e5a251d0237b4de2aa232acf014283c9",
            "784b09014e864189a375e65ab88d3835",
            "74712742ae724aed93fea6afa13a8fb6",
            "a8976eb500be47dd83358aaa7f2cc2d1",
            "77d340fae47e4cc49d3d5fd64b74759d",
            "30da55e5fdc2453486a3435462561d33",
            "eb799713d15141ac8e6285e6df881e61",
            "878547719fc944b4b9a2051d40927ed7",
            "8d2b12163b6f48c1a34858cf6c809b72",
            "89eff288ecf44139bc89575f60805509"
          ]
        },
        "outputId": "d8ab086d-15e8-4a7d-c763-e720984bcdeb"
      },
      "source": [
        "#@markdown Make sure you execute this cell to enable the widget!\n",
        "\n",
        "step = .1\n",
        "x_vec = np.arange(-4, 4.001, step)\n",
        "y_vec = np.arange(-4, 4.001, step)\n",
        "n_pixels = x_vec.shape[0]\n",
        "\n",
        "\n",
        "heatmap = np.zeros((n_pixels, n_pixels))\n",
        "y = np.array([1, 3])\n",
        "for i, coord1 in enumerate(x_vec):\n",
        "  for j, coord2 in enumerate(x_vec):\n",
        "    heatmap[i, j] = np.dot(np.array([coord1, coord2]), y)\n",
        "circle_mask = np.zeros((n_pixels, n_pixels))\n",
        "\n",
        "for i, coord_i in enumerate(x_vec):\n",
        "  for j, coord_j in enumerate(y_vec):\n",
        "    circle_mask[i, j] = np.sqrt(coord_i**2 + coord_j**2)\n",
        "\n",
        "circle_mask = circle_mask < 4\n",
        "\n",
        "heatmap = heatmap * circle_mask\n",
        "mask = np.zeros((n_pixels, n_pixels))\n",
        "\n",
        "def plot_heatmap(x, y, mask):\n",
        "\n",
        "  fig, ax = plt.subplots()\n",
        "\n",
        "  ax.spines['top'].set_color('none')\n",
        "  ax.spines['bottom'].set_position('zero')\n",
        "  ax.spines['left'].set_position('zero')\n",
        "  ax.spines['right'].set_color('none')\n",
        "\n",
        "  heatmap[np.where(x_vec == x[0])[0], np.where(x_vec == x[1])[0]] = np.dot(x, y)\n",
        "\n",
        "  masked_x = np.abs(x_vec - x[0]) < 1\n",
        "  masked_y = np.abs(y_vec - x[1]) < 1\n",
        "  mask += np.outer(masked_x, masked_y)\n",
        "  mask = np.minimum(mask, 1)\n",
        "\n",
        "  im = ax.imshow((heatmap * mask).T, vmin = -15, vmax = 15, origin = 'lower', alpha = .5, extent=[-n_pixels/2., n_pixels/2., -n_pixels/2., n_pixels/2. ], cmap = 'bwr')\n",
        "  cbar = plt.colorbar(im, ax = ax)\n",
        "  cbar.set_label('Response of LGN neuron (g)', rotation=270, labelpad=20)\n",
        "  ax.set(xticklabels = [], yticklabels = [], xlabel = '$\\mathbf{r}_1$')\n",
        "  ax.set_ylabel('$\\mathbf{r}_2$', rotation=0)\n",
        "\n",
        "  ax.xaxis.set_label_coords(0, .45)\n",
        "  ax.yaxis.set_label_coords(.5, 1)\n",
        "  fr_arr = ax.arrow(0, 0, (1/step)*x[0], (1/step)*x[1], width=.5, color='#40B0A6', length_includes_head = True);\n",
        "  we_arr = ax.arrow(0, 0, (1/step)*y[0], (1/step)*y[1], width=.5, color='k', length_includes_head = True);\n",
        "\n",
        "\n",
        "  leg = ax.legend([fr_arr, we_arr], ['Retina firing rate vector', 'Weight vector'],\n",
        "                  handlelength = 0, frameon=False, fontsize = 17,loc = 'center',\n",
        "                  bbox_to_anchor=(.5, -.1))\n",
        "  for handle, label in zip(leg.legendHandles, leg.texts):\n",
        "        label.set_color(handle.get_facecolor())\n",
        "        handle.set_visible(False)\n",
        "\n",
        "  return mask\n",
        "\n",
        "style = {'description_width': 'initial'}\n",
        "\n",
        "@widgets.interact(neuron1_firing = widgets.FloatSlider(value=1.0, min=-4, max=4, step=1, style=style), neuron2_firing = widgets.FloatSlider(value=1.0, min=-4, max=4, step=1, style=style), mask = fixed(mask),  heatmap = fixed(heatmap))\n",
        "def plot_linear_combination(neuron1_firing, neuron2_firing, mask):\n",
        "  firing_rates = np.array([neuron1_firing, neuron2_firing])\n",
        "  weights = np.array([1, 2])\n",
        "  mask = plot_heatmap(firing_rates, weights, mask)"
      ],
      "execution_count": null,
      "outputs": [
        {
          "output_type": "display_data",
          "data": {
            "application/vnd.jupyter.widget-view+json": {
              "model_id": "e5a251d0237b4de2aa232acf014283c9",
              "version_minor": 0,
              "version_major": 2
            },
            "text/plain": [
              "interactive(children=(FloatSlider(value=1.0, description='neuron1_firing', max=4.0, min=-4.0, step=1.0, style=…"
            ]
          },
          "metadata": {
            "tags": []
          }
        }
      ]
    },
    {
      "cell_type": "markdown",
      "metadata": {
        "execution": {
          "iopub.execute_input": "2021-06-30T11:19:49.846855Z",
          "iopub.status.busy": "2021-06-30T11:19:49.846296Z",
          "iopub.status.idle": "2021-06-30T11:19:49.850230Z",
          "shell.execute_reply": "2021-06-30T11:19:49.849416Z"
        },
        "id": "ErnAkyUvEf7R"
      },
      "source": [
        "[*Click for solution*](https://github.com/NeuromatchAcademy/course-content/tree/master//tutorials/W0D3_LinearAlgebra/solutions/W0D3_Tutorial1_Solution_7d994e93.py)\n",
        "\n"
      ]
    },
    {
      "cell_type": "markdown",
      "metadata": {
        "id": "A1gRhfCYEf7S"
      },
      "source": [
        "## Section 3.2: The geometry of the dot product\n",
        "\n",
        "*Estimated timing to here from start of tutorial: 1 hr, 20 min*"
      ]
    },
    {
      "cell_type": "code",
      "metadata": {
        "cellView": "form",
        "execution": {
          "iopub.execute_input": "2021-06-30T11:19:49.860849Z",
          "iopub.status.busy": "2021-06-30T11:19:49.857370Z",
          "iopub.status.idle": "2021-06-30T11:19:49.931494Z",
          "shell.execute_reply": "2021-06-30T11:19:49.927686Z"
        },
        "id": "Q23EAwlUEf7S",
        "colab": {
          "base_uri": "https://localhost:8080/",
          "height": 581,
          "referenced_widgets": [
            "8b4b761845d74ae4949eb48852431810",
            "0c7f665058ea4f8482eeb2b032d41a2b",
            "6868561165dc4fc489735b1f9d41dd5f",
            "112e0dc5d6724d4b989129c0d6c4f1c1",
            "e0e889dde37c480a83d43e3951c7ccb4",
            "e976fd1d8cd34ea1ad32a21b0bffd95f"
          ]
        },
        "outputId": "050b94b4-9f7b-4a52-cf41-6e9952787b42"
      },
      "source": [
        "# @title Video 7: The geometry of the dot product\n",
        "from ipywidgets import widgets\n",
        "\n",
        "out2 = widgets.Output()\n",
        "with out2:\n",
        "  from IPython.display import IFrame\n",
        "  class BiliVideo(IFrame):\n",
        "      def __init__(self, id, page=1, width=400, height=300, **kwargs):\n",
        "          self.id=id\n",
        "          src = 'https://player.bilibili.com/player.html?bvid={0}&page={1}'.format(id, page)\n",
        "          super(BiliVideo, self).__init__(src, width, height, **kwargs)\n",
        "\n",
        "  video = BiliVideo(id=\"BV1bo4y1C7JL\", width=854, height=480, fs=1)\n",
        "  print('Video available at https://www.bilibili.com/video/{0}'.format(video.id))\n",
        "  display(video)\n",
        "\n",
        "out1 = widgets.Output()\n",
        "with out1:\n",
        "  from IPython.display import YouTubeVideo\n",
        "  video = YouTubeVideo(id=\"S2wKFY5iWUM\", width=854, height=480, fs=1, rel=0)\n",
        "  print('Video available at https://youtube.com/watch?v=' + video.id)\n",
        "  display(video)\n",
        "\n",
        "out = widgets.Tab([out1, out2])\n",
        "out.set_title(0, 'Youtube')\n",
        "out.set_title(1, 'Bilibili')\n",
        "\n",
        "display(out)"
      ],
      "execution_count": null,
      "outputs": [
        {
          "output_type": "display_data",
          "data": {
            "application/vnd.jupyter.widget-view+json": {
              "model_id": "8b4b761845d74ae4949eb48852431810",
              "version_minor": 0,
              "version_major": 2
            },
            "text/plain": [
              "Tab(children=(Output(), Output()), _titles={'0': 'Youtube', '1': 'Bilibili'})"
            ]
          },
          "metadata": {
            "tags": []
          }
        }
      ]
    },
    {
      "cell_type": "markdown",
      "metadata": {
        "id": "34wicuw3Ef7S"
      },
      "source": [
        "This video covers the geometry of the dot product: how it relates to the length of the vectors and the angle between them.\n",
        "\n",
        "<details>\n",
        "<summary> <font color='blue'>Click here for text recap of video </font></summary>\n",
        "\n",
        "An alternate way of defining the dot product is as the multiple of the lengths of the two vectors and the angle between them 𝜃:\n",
        "\n",
        "$𝐱⋅𝐲=||𝐱||||𝐲||𝑐𝑜𝑠(𝜃)$.\n",
        "\n",
        "This means that:\n",
        "\n",
        "- the dot product is largest when the vectors are the same direction (angle 0)\n",
        "\n",
        "- the dot product is smallest when the vectors are the opposite direction (angle 180)\n",
        "\n",
        "- the dot product is 0 when the vectors are perpendicular (angle 90)\n",
        "\n",
        "- for fixed vector lengths, the dot product is a measure of similarity between the vectors"
      ]
    },
    {
      "cell_type": "markdown",
      "metadata": {
        "id": "UscBqspgEf7T"
      },
      "source": [
        "---\n",
        "# Summary\n",
        "\n",
        "*Estimated timing of tutorial: 1 hour, 25 minutes*\n",
        "\n",
        "Hopefully, this tutorial has helped you better understand the world of vectors. Specifically, you learned: \n",
        "\n",
        "* A geometrical view of vectors, their properties, and their operations\n",
        "\n",
        "* How we can define space in terms of basis vectors\n",
        "\n",
        "We will build on this knowledge in the next tutorial when we tackle matrices. \n"
      ]
    },
    {
      "cell_type": "markdown",
      "metadata": {
        "id": "d56mtSRWEf7T"
      },
      "source": [
        "---\n",
        "# Bonus\n"
      ]
    },
    {
      "cell_type": "markdown",
      "metadata": {
        "id": "1AQYRqWzEf7T"
      },
      "source": [
        "---\n",
        "## Bonus Section 1: Vector space"
      ]
    },
    {
      "cell_type": "markdown",
      "metadata": {
        "id": "heu-AC-LEf7U"
      },
      "source": [
        "## Bonus Section 1.1: Definition of vector space\n",
        "\n",
        "A vector space is formally defined as a collection of vectors that satisfy the below axioms for every vector.\n",
        "\n",
        "Let $\\mathbf{x}$, $\\mathbf{y}$, and $\\mathbf{z}$ be vectors in a vector space $V$, and $c$ and $d$ be scalars.\n",
        "\n",
        "\n",
        "\n",
        "1.   $\\mathbf{x}$ + $\\mathbf{y}$ in $V$\n",
        "2.   $\\mathbf{x}$ + $\\mathbf{y}$ = $\\mathbf{y}$ + $\\mathbf{x}$\n",
        "3.   ($\\mathbf{x}$ + $\\mathbf{y}$) + $\\mathbf{z}$ = $\\mathbf{x}$ + ($\\mathbf{y}$ + $\\mathbf{z}$)\n",
        "4. Zero vector ($\\mathbf{0}$) exists in $V$ such that $\\mathbf{x} + \\mathbf{0} = \\mathbf{x}$\n",
        "5.  Inverse $-\\mathbf{x}$ exists in $V$ such that $\\mathbf{x} + -\\mathbf{x} = \\mathbf{0}$\n",
        "6.  $c\\mathbf{x}$ in $V$\n",
        "7.  $c(\\mathbf{x}+\\mathbf{y}) = c\\mathbf{x} + c\\mathbf{y})$\n",
        "8. $(c + d)\\mathbf{x} = c\\mathbf{x}+d\\mathbf{x}$\n",
        "9. $c(d\\mathbf{x}) = (cd)\\mathbf{x}$\n",
        "10. $1\\mathbf{x} = \\mathbf{x}$"
      ]
    },
    {
      "cell_type": "markdown",
      "metadata": {
        "id": "cD6HCVTDEf7U"
      },
      "source": [
        "## Bonus Section 1.2: Polynomial vector space example \n",
        "\n",
        "We will mostly work with the vector spaces you've seen in this tutorial: different N-dimensional spaces of real numbers or subspaces within those. Other things can also be vector spaces though! As an example, one vector space is the set of all polynomials of degree 3 ($P_3$).\n",
        "\n",
        "Remember that a polynomial of degree 3 is:\n",
        "$$p(x) = c_o + c_1x + c_2x^2 + c_3x^3 $$\n",
        "\n",
        "We can have the basis for this vector space be:\n",
        "$$\\text{Basis: } \\{1, x, x^2, x^3\\} $$\n",
        "\n",
        "The components of a vector representing a specific polynomial would then be:\n",
        "$$\\mathbf{x} = \\begin{bmatrix} c_0 \\\\c_1\\\\c_2\\\\c_3\\end{bmatrix} $$\n",
        "\n",
        "These vectors obey all of the axioms in the previous section as you add polynomials, multiple them with a scalar, etc!"
      ]
    },
    {
      "cell_type": "markdown",
      "metadata": {
        "id": "SkRpkAK3Ef7V"
      },
      "source": [
        "---\n",
        "## Bonus Section 2: Proof of dot product equivalent definitions\n",
        "\n",
        "Let's prove that our two definitions of a dot product are equivalent:\n",
        "\n",
        "\\begin{align*}\n",
        "\\mathbf{x}\\cdot\\mathbf{y} &= \\sum_{i=1}^N \\mathbf{x}_i\\mathbf{y}_i  \\\\\n",
        "&= ||\\mathbf{x}||||\\mathbf{y}||cos(\\theta)\n",
        "\\end{align*}\n",
        "where $\\mathbf{x}$ and $\\mathbf{y}$ are vectors, and $\\theta$ is the angle between them."
      ]
    },
    {
      "cell_type": "markdown",
      "metadata": {
        "id": "SMa2qsCUEf7V"
      },
      "source": [
        "![vector_diagram.png](data:image/png;base64,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)"
      ]
    },
    {
      "cell_type": "markdown",
      "metadata": {
        "id": "jfhBxGAZEf7W"
      },
      "source": [
        "We start by using the law of cosines to write out the formula for $||\\mathbf{a}||$, where $\\mathbf{a}$ is defined in the figure above.\n",
        "\n",
        "$$ \\begin{align*} \n",
        " \\|\\mathbf{a}\\|^2 &= \\color{blue}{\\|\\mathbf{x}\\|^2 + \\|\\mathbf{y}\\|^2 -2\\|\\mathbf{x}\\|\\|\\mathbf{y}\\|cos(\\theta)}\n",
        " \\end{align*} $$\n",
        "\n",
        "We can then write $\\mathbf{a}$ as a vector subtraction of $\\mathbf{x}$ and $\\mathbf{y}$. Technically, $\\mathbf{a}$ is pictured above not starting at the origin but we ultimately only care about it's length and direction. \n",
        "\n",
        "$$ \\begin{align*} \n",
        " \\mathbf{a} &= \\mathbf{y} - \\mathbf{x} \\\\ \n",
        " \\|\\mathbf{a}\\| &= \\|\\mathbf{y} - \\mathbf{x}\\| \\\\\n",
        "  \\end{align*} $$\n",
        "One key fact we will use is that the squared length of a vector is the sum of each component squared, which is equivalent to the dot product of a vector with itself. We can now write $||a||^2$ in terms of the dot product. We can substitute in our definition from above for $\\mathbf{a}$ in terms of $\\mathbf{x}$ and $\\mathbf{y}$. \n",
        "\n",
        "\\begin{align*} \n",
        " \\|\\mathbf{a}\\|^2 &= \\mathbf{a}\\cdot\\mathbf{a} \\\\ \n",
        " &= (\\mathbf{y} - \\mathbf{x})\\cdot(\\mathbf{y} - \\mathbf{x}) \\\\\n",
        " &= \\mathbf{y}\\cdot\\mathbf{y} - 2(\\mathbf{x}\\cdot\\mathbf{y}) + \\mathbf{x}\\cdot\\mathbf{x} \\\\\n",
        "&= \\color{green}{\\|\\mathbf{y}\\|^2 - 2(\\mathbf{x}\\cdot\\mathbf{y}) + \\|\\mathbf{x}\\|^2}\\\\\n",
        "\\end{align*} \n",
        "\n",
        "We can now equate our two definitions for $||a||^2$ from above and solve for the dot product!\n",
        "\n",
        "\\begin{align*}\n",
        "\\color{blue}{\\|\\mathbf{x}\\|^2 + \\|\\mathbf{y}\\|^2 -2\\|\\mathbf{x}\\|\\|\\mathbf{y}\\|cos(\\theta)} &= \\color{green}{\\|\\mathbf{y}\\|^2 - 2(\\mathbf{x}\\cdot\\mathbf{y}) + \\|\\mathbf{x}\\|^2}\\\\\n",
        " -2\\|\\mathbf{x}\\|\\|\\mathbf{y}\\|cos(\\theta) &= - 2(\\mathbf{x}\\cdot\\mathbf{y}) \\\\\n",
        "\\|\\mathbf{x}\\|\\|\\mathbf{y}\\|cos(\\theta) &= \\mathbf{x}\\cdot\\mathbf{y} \\\\\n",
        "\\end{align*}\n",
        "\n",
        "We see our geometrical definition of the dot product!"
      ]
    }
  ]
}